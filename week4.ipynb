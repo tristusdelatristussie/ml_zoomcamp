{
 "cells": [
  {
   "cell_type": "code",
   "execution_count": 1,
   "id": "1937c9c0",
   "metadata": {},
   "outputs": [],
   "source": [
    "import pandas as pd\n",
    "import numpy as np\n",
    "\n",
    "import seaborn as sns\n",
    "from matplotlib import pyplot as plt\n",
    "%matplotlib inline"
   ]
  },
  {
   "cell_type": "code",
   "execution_count": 2,
   "id": "cf2bafa3",
   "metadata": {},
   "outputs": [
    {
     "data": {
      "text/plain": [
       "'1.5.3'"
      ]
     },
     "execution_count": 2,
     "metadata": {},
     "output_type": "execute_result"
    }
   ],
   "source": [
    "pd.__version__"
   ]
  },
  {
   "cell_type": "code",
   "execution_count": 3,
   "id": "d84e9770",
   "metadata": {},
   "outputs": [],
   "source": [
    "car_price = pd.read_csv(r'C:/Users/pc/Documents/car_price.csv')"
   ]
  },
  {
   "cell_type": "code",
   "execution_count": 4,
   "id": "c3b9a47e",
   "metadata": {},
   "outputs": [],
   "source": [
    "features = ['MSRP',\n",
    "            'Make',\n",
    "            'Model',\n",
    "            'Year',\n",
    "            'Engine HP',\n",
    "            'Engine Cylinders',\n",
    "            'Transmission Type',\n",
    "            'Vehicle Style',\n",
    "            'highway MPG',\n",
    "            'city mpg']"
   ]
  },
  {
   "cell_type": "code",
   "execution_count": 5,
   "id": "7e9511ee",
   "metadata": {},
   "outputs": [],
   "source": [
    "car_price[features] = car_price[features].astype('string')\n",
    "for f in features:\n",
    "    car_price[f] = car_price[f].str.replace(' ', '_').str.lower()"
   ]
  },
  {
   "cell_type": "code",
   "execution_count": 6,
   "id": "bffbb2f7",
   "metadata": {},
   "outputs": [],
   "source": [
    "car_price_f = car_price[features]"
   ]
  },
  {
   "cell_type": "code",
   "execution_count": 7,
   "id": "80871b58",
   "metadata": {},
   "outputs": [],
   "source": [
    "nulls_rows = car_price_f.isnull().any(axis=1)"
   ]
  },
  {
   "cell_type": "code",
   "execution_count": 8,
   "id": "4c886620",
   "metadata": {},
   "outputs": [
    {
     "name": "stderr",
     "output_type": "stream",
     "text": [
      "C:\\Users\\pc\\AppData\\Local\\Temp\\ipykernel_7596\\2057292027.py:1: SettingWithCopyWarning: \n",
      "A value is trying to be set on a copy of a slice from a DataFrame.\n",
      "Try using .loc[row_indexer,col_indexer] = value instead\n",
      "\n",
      "See the caveats in the documentation: https://pandas.pydata.org/pandas-docs/stable/user_guide/indexing.html#returning-a-view-versus-a-copy\n",
      "  car_price_f[nulls_rows] = car_price_f[nulls_rows].fillna('0')\n"
     ]
    }
   ],
   "source": [
    "car_price_f[nulls_rows] = car_price_f[nulls_rows].fillna('0')"
   ]
  },
  {
   "cell_type": "code",
   "execution_count": 9,
   "id": "f852fb2f",
   "metadata": {},
   "outputs": [],
   "source": [
    "car_price_f = car_price_f.rename(str.lower, axis='columns').rename(columns={'msrp' : 'price'})"
   ]
  },
  {
   "cell_type": "code",
   "execution_count": 10,
   "id": "d56fb07c",
   "metadata": {},
   "outputs": [],
   "source": [
    "numerical_features = ['price', 'year', 'engine hp', 'engine cylinders','highway mpg', 'city mpg']"
   ]
  },
  {
   "cell_type": "code",
   "execution_count": 11,
   "id": "cf3cfad4",
   "metadata": {},
   "outputs": [],
   "source": [
    "car_price_f[numerical_features] = car_price_f[numerical_features].astype(float)"
   ]
  },
  {
   "cell_type": "code",
   "execution_count": 12,
   "id": "0d0be86c",
   "metadata": {},
   "outputs": [],
   "source": [
    "categorical_features = car_price_f.select_dtypes('string').astype('category').columns"
   ]
  },
  {
   "cell_type": "code",
   "execution_count": 13,
   "id": "fb4998d8",
   "metadata": {},
   "outputs": [],
   "source": [
    "m = car_price_f.price.mean()\n",
    "\n",
    "car_price_f['above_average'] = (car_price_f['price'] >= m).astype(int)"
   ]
  },
  {
   "cell_type": "code",
   "execution_count": 14,
   "id": "e8d2a4e5",
   "metadata": {},
   "outputs": [],
   "source": [
    "from sklearn.model_selection import train_test_split\n",
    "\n",
    "X = car_price_f.drop(columns=['above_average','price']).copy()\n",
    "y = car_price_f['above_average']\n",
    "\n",
    "X_train, X_temp, y_train, y_temp = train_test_split(X, y, test_size=0.4, train_size=0.6, random_state=1)\n",
    "\n",
    "X_val, X_test, y_val, y_test = train_test_split(X_temp, y_temp, test_size=0.5, random_state=1)"
   ]
  },
  {
   "cell_type": "code",
   "execution_count": 15,
   "id": "882e93c0",
   "metadata": {},
   "outputs": [],
   "source": [
    "from sklearn.model_selection import train_test_split\n",
    "\n",
    "X = car_price_f.drop(columns=['above_average','price']).copy()\n",
    "y = car_price_f['above_average']\n",
    "\n",
    "#X_train_full, X_test, y_train_full, y_test  = train_test_split(X , y, test_size=0.2, random_state=1)\n",
    "#X_train, X_val, y_train, y_val  = train_test_split(X_train_full, y_train_full , test_size=0.25, random_state=1)\n",
    "\n",
    "\n",
    "df_full_train, df_test = train_test_split(car_price_f, test_size=0.2, random_state=1)\n",
    "df_train, df_val = train_test_split(df_full_train, test_size=0.25, random_state=1)"
   ]
  },
  {
   "cell_type": "code",
   "execution_count": 16,
   "id": "d0508e84",
   "metadata": {},
   "outputs": [],
   "source": [
    "#Q1"
   ]
  },
  {
   "cell_type": "code",
   "execution_count": 17,
   "id": "f0673a4e",
   "metadata": {},
   "outputs": [
    {
     "name": "stdout",
     "output_type": "stream",
     "text": [
      "score year 0.6918066573828033\n",
      "score engine hp 0.9157738865600598\n",
      "score engine cylinders 0.765740332665676\n",
      "score highway mpg 0.3692506025635423\n",
      "inf highway mpg 0.6307493974364577\n",
      "score city mpg 0.3293212028589015\n",
      "inf city mpg 0.6706787971410986\n",
      "La variable numérique avec le plus haut AUC est : engine hp\n",
      "Son AUC est : 0.9157738865600598\n"
     ]
    }
   ],
   "source": [
    "from sklearn.metrics import roc_auc_score\n",
    "\n",
    "auc_scores = {}\n",
    "for var in X_train.select_dtypes('number'):\n",
    "    score = roc_auc_score(car_price_f.above_average, car_price_f[var])\n",
    "    print(\"score\",var ,score)\n",
    "    if score < 0.5:\n",
    "        score = roc_auc_score(car_price_f.above_average, -car_price_f[var])\n",
    "        print(\"inf\",var, score)\n",
    "    auc_scores[var] = score\n",
    "best_variable = max(auc_scores, key=auc_scores.get)\n",
    "\n",
    "print(\"La variable numérique avec le plus haut AUC est :\", best_variable)\n",
    "print(\"Son AUC est :\", auc_scores[best_variable])"
   ]
  },
  {
   "cell_type": "code",
   "execution_count": 18,
   "id": "06f452c8",
   "metadata": {},
   "outputs": [
    {
     "data": {
      "text/plain": [
       "{'year': 0.6918066573828033,\n",
       " 'engine hp': 0.9157738865600598,\n",
       " 'engine cylinders': 0.765740332665676,\n",
       " 'highway mpg': 0.6307493974364577,\n",
       " 'city mpg': 0.6706787971410986}"
      ]
     },
     "execution_count": 18,
     "metadata": {},
     "output_type": "execute_result"
    }
   ],
   "source": [
    "auc_scores"
   ]
  },
  {
   "cell_type": "code",
   "execution_count": 19,
   "id": "c05789b3",
   "metadata": {},
   "outputs": [],
   "source": [
    "# engine hp"
   ]
  },
  {
   "cell_type": "code",
   "execution_count": 20,
   "id": "62a6f80f",
   "metadata": {},
   "outputs": [],
   "source": [
    "#Q2"
   ]
  },
  {
   "cell_type": "code",
   "execution_count": 22,
   "id": "f063c158",
   "metadata": {},
   "outputs": [],
   "source": [
    "from sklearn.feature_extraction import DictVectorizer\n",
    "dv = DictVectorizer(sparse=False)\n",
    "train_dict = X_train.to_dict(orient='records')\n",
    "dv_fit = dv.fit(train_dict)"
   ]
  },
  {
   "cell_type": "code",
   "execution_count": 23,
   "id": "9672cb48",
   "metadata": {},
   "outputs": [],
   "source": [
    "Xtrain_ohe = dv_fit.transform(train_dict)\n",
    "Xtrain_ohe = pd.DataFrame(Xtrain_ohe, columns=dv_fit.get_feature_names_out())"
   ]
  },
  {
   "cell_type": "code",
   "execution_count": 24,
   "id": "352427e4",
   "metadata": {},
   "outputs": [],
   "source": [
    "Xval_ohe = dv_fit.transform(X_val.to_dict(orient='records'))\n",
    "Xval_ohe = pd.DataFrame(Xval_ohe, columns=dv_fit.get_feature_names_out())"
   ]
  },
  {
   "cell_type": "code",
   "execution_count": 25,
   "id": "b9112e91",
   "metadata": {},
   "outputs": [
    {
     "data": {
      "text/html": [
       "<style>#sk-container-id-1 {color: black;}#sk-container-id-1 pre{padding: 0;}#sk-container-id-1 div.sk-toggleable {background-color: white;}#sk-container-id-1 label.sk-toggleable__label {cursor: pointer;display: block;width: 100%;margin-bottom: 0;padding: 0.3em;box-sizing: border-box;text-align: center;}#sk-container-id-1 label.sk-toggleable__label-arrow:before {content: \"▸\";float: left;margin-right: 0.25em;color: #696969;}#sk-container-id-1 label.sk-toggleable__label-arrow:hover:before {color: black;}#sk-container-id-1 div.sk-estimator:hover label.sk-toggleable__label-arrow:before {color: black;}#sk-container-id-1 div.sk-toggleable__content {max-height: 0;max-width: 0;overflow: hidden;text-align: left;background-color: #f0f8ff;}#sk-container-id-1 div.sk-toggleable__content pre {margin: 0.2em;color: black;border-radius: 0.25em;background-color: #f0f8ff;}#sk-container-id-1 input.sk-toggleable__control:checked~div.sk-toggleable__content {max-height: 200px;max-width: 100%;overflow: auto;}#sk-container-id-1 input.sk-toggleable__control:checked~label.sk-toggleable__label-arrow:before {content: \"▾\";}#sk-container-id-1 div.sk-estimator input.sk-toggleable__control:checked~label.sk-toggleable__label {background-color: #d4ebff;}#sk-container-id-1 div.sk-label input.sk-toggleable__control:checked~label.sk-toggleable__label {background-color: #d4ebff;}#sk-container-id-1 input.sk-hidden--visually {border: 0;clip: rect(1px 1px 1px 1px);clip: rect(1px, 1px, 1px, 1px);height: 1px;margin: -1px;overflow: hidden;padding: 0;position: absolute;width: 1px;}#sk-container-id-1 div.sk-estimator {font-family: monospace;background-color: #f0f8ff;border: 1px dotted black;border-radius: 0.25em;box-sizing: border-box;margin-bottom: 0.5em;}#sk-container-id-1 div.sk-estimator:hover {background-color: #d4ebff;}#sk-container-id-1 div.sk-parallel-item::after {content: \"\";width: 100%;border-bottom: 1px solid gray;flex-grow: 1;}#sk-container-id-1 div.sk-label:hover label.sk-toggleable__label {background-color: #d4ebff;}#sk-container-id-1 div.sk-serial::before {content: \"\";position: absolute;border-left: 1px solid gray;box-sizing: border-box;top: 0;bottom: 0;left: 50%;z-index: 0;}#sk-container-id-1 div.sk-serial {display: flex;flex-direction: column;align-items: center;background-color: white;padding-right: 0.2em;padding-left: 0.2em;position: relative;}#sk-container-id-1 div.sk-item {position: relative;z-index: 1;}#sk-container-id-1 div.sk-parallel {display: flex;align-items: stretch;justify-content: center;background-color: white;position: relative;}#sk-container-id-1 div.sk-item::before, #sk-container-id-1 div.sk-parallel-item::before {content: \"\";position: absolute;border-left: 1px solid gray;box-sizing: border-box;top: 0;bottom: 0;left: 50%;z-index: -1;}#sk-container-id-1 div.sk-parallel-item {display: flex;flex-direction: column;z-index: 1;position: relative;background-color: white;}#sk-container-id-1 div.sk-parallel-item:first-child::after {align-self: flex-end;width: 50%;}#sk-container-id-1 div.sk-parallel-item:last-child::after {align-self: flex-start;width: 50%;}#sk-container-id-1 div.sk-parallel-item:only-child::after {width: 0;}#sk-container-id-1 div.sk-dashed-wrapped {border: 1px dashed gray;margin: 0 0.4em 0.5em 0.4em;box-sizing: border-box;padding-bottom: 0.4em;background-color: white;}#sk-container-id-1 div.sk-label label {font-family: monospace;font-weight: bold;display: inline-block;line-height: 1.2em;}#sk-container-id-1 div.sk-label-container {text-align: center;}#sk-container-id-1 div.sk-container {/* jupyter's `normalize.less` sets `[hidden] { display: none; }` but bootstrap.min.css set `[hidden] { display: none !important; }` so we also need the `!important` here to be able to override the default hidden behavior on the sphinx rendered scikit-learn.org. See: https://github.com/scikit-learn/scikit-learn/issues/21755 */display: inline-block !important;position: relative;}#sk-container-id-1 div.sk-text-repr-fallback {display: none;}</style><div id=\"sk-container-id-1\" class=\"sk-top-container\"><div class=\"sk-text-repr-fallback\"><pre>LogisticRegression(max_iter=1000, solver=&#x27;liblinear&#x27;)</pre><b>In a Jupyter environment, please rerun this cell to show the HTML representation or trust the notebook. <br />On GitHub, the HTML representation is unable to render, please try loading this page with nbviewer.org.</b></div><div class=\"sk-container\" hidden><div class=\"sk-item\"><div class=\"sk-estimator sk-toggleable\"><input class=\"sk-toggleable__control sk-hidden--visually\" id=\"sk-estimator-id-1\" type=\"checkbox\" checked><label for=\"sk-estimator-id-1\" class=\"sk-toggleable__label sk-toggleable__label-arrow\">LogisticRegression</label><div class=\"sk-toggleable__content\"><pre>LogisticRegression(max_iter=1000, solver=&#x27;liblinear&#x27;)</pre></div></div></div></div></div>"
      ],
      "text/plain": [
       "LogisticRegression(max_iter=1000, solver='liblinear')"
      ]
     },
     "execution_count": 25,
     "metadata": {},
     "output_type": "execute_result"
    }
   ],
   "source": [
    "from sklearn.linear_model import LogisticRegression\n",
    "\n",
    "model = LogisticRegression(solver='liblinear', C=1.0, max_iter=1000)\n",
    "\n",
    "model.fit(Xtrain_ohe, y_train)"
   ]
  },
  {
   "cell_type": "code",
   "execution_count": 26,
   "id": "fc39839e",
   "metadata": {},
   "outputs": [],
   "source": [
    "#y_pred = pd.Series(model.predict_proba(Xval_ohe)[:,1])\n",
    "y_pred = model.predict_proba(Xval_ohe)[:,1]\n",
    "#y_pred = pd.Series(model.predict(Xval_ohe))"
   ]
  },
  {
   "cell_type": "code",
   "execution_count": 27,
   "id": "d4a7fe91",
   "metadata": {},
   "outputs": [
    {
     "name": "stdout",
     "output_type": "stream",
     "text": [
      "AUC on the validation dataset: 0.980\n"
     ]
    }
   ],
   "source": [
    "#roc_auc_score(y_val, y_pred)\n",
    "print(f'AUC on the validation dataset: {roc_auc_score(y_val, y_pred):.3f}')\n"
   ]
  },
  {
   "cell_type": "code",
   "execution_count": 28,
   "id": "c22b23a6",
   "metadata": {},
   "outputs": [],
   "source": [
    "def tpr_fpr_dataframe(y_val, y_pred):\n",
    "    scores = []\n",
    "\n",
    "    thresholds = np.linspace(0, 1, 101)\n",
    "\n",
    "    for t in thresholds:\n",
    "        actual_positive = (y_val == 1)\n",
    "        actual_negative = (y_val == 0)\n",
    "\n",
    "        predict_positive = (y_pred >= t)\n",
    "        predict_negative = (y_pred < t)\n",
    "\n",
    "        tp = (predict_positive & actual_positive).sum()\n",
    "        tn = (predict_negative & actual_negative).sum()\n",
    "\n",
    "        fp = (predict_positive & actual_negative).sum()\n",
    "        fn = (predict_negative & actual_positive).sum()\n",
    "\n",
    "        scores.append((t, tp, fp, fn, tn))\n",
    "\n",
    "    columns = ['threshold', 'tp', 'fp', 'fn', 'tn']\n",
    "    df_scores = pd.DataFrame(scores, columns=columns)\n",
    "\n",
    "    df_scores['tpr'] = df_scores.tp / (df_scores.tp + df_scores.fn)\n",
    "    df_scores['fpr'] = df_scores.fp / (df_scores.fp + df_scores.tn)\n",
    "    \n",
    "    return df_scores"
   ]
  },
  {
   "cell_type": "code",
   "execution_count": 29,
   "id": "faf8ef6d",
   "metadata": {},
   "outputs": [],
   "source": [
    "df_scores = tpr_fpr_dataframe(y_val, y_pred)"
   ]
  },
  {
   "cell_type": "code",
   "execution_count": 30,
   "id": "b4f89817",
   "metadata": {
    "scrolled": false
   },
   "outputs": [
    {
     "data": {
      "text/plain": [
       "<matplotlib.legend.Legend at 0x15df5845450>"
      ]
     },
     "execution_count": 30,
     "metadata": {},
     "output_type": "execute_result"
    },
    {
     "data": {
      "image/png": "[encoded data removed]",
      "text/plain": [
       "<Figure size 640x480 with 1 Axes>"
      ]
     },
     "metadata": {},
     "output_type": "display_data"
    }
   ],
   "source": [
    "plt.plot(df_scores.threshold, df_scores['tpr'], label='TPR')\n",
    "plt.plot(df_scores.threshold, df_scores['fpr'], label='FPR')\n",
    "plt.legend()"
   ]
  },
  {
   "cell_type": "code",
   "execution_count": 31,
   "id": "e2e4ba84",
   "metadata": {
    "scrolled": true
   },
   "outputs": [
    {
     "data": {
      "text/plain": [
       "0.9803827994246515"
      ]
     },
     "execution_count": 31,
     "metadata": {},
     "output_type": "execute_result"
    }
   ],
   "source": [
    "from sklearn.metrics import auc\n",
    "auc(df_scores.fpr, df_scores.tpr)"
   ]
  },
  {
   "cell_type": "code",
   "execution_count": null,
   "id": "83aa7e70",
   "metadata": {},
   "outputs": [],
   "source": [
    "#0.9803827994246515"
   ]
  },
  {
   "cell_type": "code",
   "execution_count": 33,
   "id": "ee86e08c",
   "metadata": {},
   "outputs": [],
   "source": [
    "#Q3"
   ]
  },
  {
   "cell_type": "code",
   "execution_count": 34,
   "id": "f76ea83a",
   "metadata": {},
   "outputs": [
    {
     "data": {
      "text/html": [
       "<div>\n",
       "<style scoped>\n",
       "    .dataframe tbody tr th:only-of-type {\n",
       "        vertical-align: middle;\n",
       "    }\n",
       "\n",
       "    .dataframe tbody tr th {\n",
       "        vertical-align: top;\n",
       "    }\n",
       "\n",
       "    .dataframe thead th {\n",
       "        text-align: right;\n",
       "    }\n",
       "</style>\n",
       "<table border=\"1\" class=\"dataframe\">\n",
       "  <thead>\n",
       "    <tr style=\"text-align: right;\">\n",
       "      <th></th>\n",
       "      <th>threshold</th>\n",
       "      <th>tp</th>\n",
       "      <th>fp</th>\n",
       "      <th>fn</th>\n",
       "      <th>tn</th>\n",
       "      <th>precision</th>\n",
       "      <th>recall</th>\n",
       "    </tr>\n",
       "  </thead>\n",
       "  <tbody>\n",
       "    <tr>\n",
       "      <th>0</th>\n",
       "      <td>0.00</td>\n",
       "      <td>646</td>\n",
       "      <td>1737</td>\n",
       "      <td>0</td>\n",
       "      <td>0</td>\n",
       "      <td>0.271087</td>\n",
       "      <td>1.000000</td>\n",
       "    </tr>\n",
       "    <tr>\n",
       "      <th>1</th>\n",
       "      <td>0.01</td>\n",
       "      <td>644</td>\n",
       "      <td>838</td>\n",
       "      <td>2</td>\n",
       "      <td>899</td>\n",
       "      <td>0.434548</td>\n",
       "      <td>0.996904</td>\n",
       "    </tr>\n",
       "    <tr>\n",
       "      <th>2</th>\n",
       "      <td>0.02</td>\n",
       "      <td>644</td>\n",
       "      <td>664</td>\n",
       "      <td>2</td>\n",
       "      <td>1073</td>\n",
       "      <td>0.492355</td>\n",
       "      <td>0.996904</td>\n",
       "    </tr>\n",
       "    <tr>\n",
       "      <th>3</th>\n",
       "      <td>0.03</td>\n",
       "      <td>644</td>\n",
       "      <td>572</td>\n",
       "      <td>2</td>\n",
       "      <td>1165</td>\n",
       "      <td>0.529605</td>\n",
       "      <td>0.996904</td>\n",
       "    </tr>\n",
       "    <tr>\n",
       "      <th>4</th>\n",
       "      <td>0.04</td>\n",
       "      <td>644</td>\n",
       "      <td>516</td>\n",
       "      <td>2</td>\n",
       "      <td>1221</td>\n",
       "      <td>0.555172</td>\n",
       "      <td>0.996904</td>\n",
       "    </tr>\n",
       "    <tr>\n",
       "      <th>...</th>\n",
       "      <td>...</td>\n",
       "      <td>...</td>\n",
       "      <td>...</td>\n",
       "      <td>...</td>\n",
       "      <td>...</td>\n",
       "      <td>...</td>\n",
       "      <td>...</td>\n",
       "    </tr>\n",
       "    <tr>\n",
       "      <th>96</th>\n",
       "      <td>0.96</td>\n",
       "      <td>225</td>\n",
       "      <td>0</td>\n",
       "      <td>421</td>\n",
       "      <td>1737</td>\n",
       "      <td>1.000000</td>\n",
       "      <td>0.348297</td>\n",
       "    </tr>\n",
       "    <tr>\n",
       "      <th>97</th>\n",
       "      <td>0.97</td>\n",
       "      <td>213</td>\n",
       "      <td>0</td>\n",
       "      <td>433</td>\n",
       "      <td>1737</td>\n",
       "      <td>1.000000</td>\n",
       "      <td>0.329721</td>\n",
       "    </tr>\n",
       "    <tr>\n",
       "      <th>98</th>\n",
       "      <td>0.98</td>\n",
       "      <td>187</td>\n",
       "      <td>0</td>\n",
       "      <td>459</td>\n",
       "      <td>1737</td>\n",
       "      <td>1.000000</td>\n",
       "      <td>0.289474</td>\n",
       "    </tr>\n",
       "    <tr>\n",
       "      <th>99</th>\n",
       "      <td>0.99</td>\n",
       "      <td>151</td>\n",
       "      <td>0</td>\n",
       "      <td>495</td>\n",
       "      <td>1737</td>\n",
       "      <td>1.000000</td>\n",
       "      <td>0.233746</td>\n",
       "    </tr>\n",
       "    <tr>\n",
       "      <th>100</th>\n",
       "      <td>1.00</td>\n",
       "      <td>0</td>\n",
       "      <td>0</td>\n",
       "      <td>646</td>\n",
       "      <td>1737</td>\n",
       "      <td>NaN</td>\n",
       "      <td>0.000000</td>\n",
       "    </tr>\n",
       "  </tbody>\n",
       "</table>\n",
       "<p>101 rows × 7 columns</p>\n",
       "</div>"
      ],
      "text/plain": [
       "     threshold   tp    fp   fn    tn  precision    recall\n",
       "0         0.00  646  1737    0     0   0.271087  1.000000\n",
       "1         0.01  644   838    2   899   0.434548  0.996904\n",
       "2         0.02  644   664    2  1073   0.492355  0.996904\n",
       "3         0.03  644   572    2  1165   0.529605  0.996904\n",
       "4         0.04  644   516    2  1221   0.555172  0.996904\n",
       "..         ...  ...   ...  ...   ...        ...       ...\n",
       "96        0.96  225     0  421  1737   1.000000  0.348297\n",
       "97        0.97  213     0  433  1737   1.000000  0.329721\n",
       "98        0.98  187     0  459  1737   1.000000  0.289474\n",
       "99        0.99  151     0  495  1737   1.000000  0.233746\n",
       "100       1.00    0     0  646  1737        NaN  0.000000\n",
       "\n",
       "[101 rows x 7 columns]"
      ]
     },
     "execution_count": 34,
     "metadata": {},
     "output_type": "execute_result"
    }
   ],
   "source": [
    "def precision_recall_dataframe(y_val, y_pred):\n",
    "    scores = []\n",
    "\n",
    "    thresholds = np.linspace(0, 1, 101)\n",
    "\n",
    "    for t in thresholds:\n",
    "        actual_positive = (y_val == 1)\n",
    "        actual_negative = (y_val == 0)\n",
    "\n",
    "        predict_positive = (y_pred >= t)\n",
    "        predict_negative = (y_pred < t)\n",
    "\n",
    "        tp = (predict_positive & actual_positive).sum()\n",
    "        tn = (predict_negative & actual_negative).sum()\n",
    "\n",
    "        fp = (predict_positive & actual_negative).sum()\n",
    "        fn = (predict_negative & actual_positive).sum()\n",
    "\n",
    "        scores.append((t, tp, fp, fn, tn))\n",
    "\n",
    "    columns = ['threshold', 'tp', 'fp', 'fn', 'tn']\n",
    "    df_scores = pd.DataFrame(scores, columns=columns)\n",
    "\n",
    "    df_scores['precision'] = df_scores.tp / (df_scores.tp + df_scores.fp)\n",
    "    df_scores['recall'] = df_scores.tp / (df_scores.tp + df_scores.fn)\n",
    "\n",
    "    return df_scores\n",
    "\n",
    "\n",
    "df_scores_recall = precision_recall_dataframe(y_val, y_pred)\n",
    "df_scores_recall"
   ]
  },
  {
   "cell_type": "code",
   "execution_count": 35,
   "id": "f1b05480",
   "metadata": {},
   "outputs": [
    {
     "data": {
      "text/plain": [
       "46    0.46\n",
       "47    0.47\n",
       "Name: threshold, dtype: float64"
      ]
     },
     "execution_count": 35,
     "metadata": {},
     "output_type": "execute_result"
    }
   ],
   "source": [
    "df_scores_recall[df_scores_recall['precision'].round(2) == df_scores_recall['recall'].round(2)]['threshold']"
   ]
  },
  {
   "cell_type": "code",
   "execution_count": 36,
   "id": "50cb70b0",
   "metadata": {},
   "outputs": [
    {
     "data": {
      "image/png": "[encoded data removed]",
      "text/plain": [
       "<Figure size 640x480 with 1 Axes>"
      ]
     },
     "metadata": {},
     "output_type": "display_data"
    }
   ],
   "source": [
    "plt.plot(df_scores_recall.threshold, df_scores_recall['precision'], label='Precision')\n",
    "plt.plot(df_scores_recall.threshold, df_scores_recall['recall'], label='Recall')\n",
    "plt.xlabel('Threshold')\n",
    "plt.ylabel('Score')\n",
    "plt.legend()\n",
    "plt.show()"
   ]
  },
  {
   "cell_type": "code",
   "execution_count": null,
   "id": "f4b46151",
   "metadata": {},
   "outputs": [],
   "source": [
    "# 46    0.46\n",
    "# 47    0.47"
   ]
  },
  {
   "cell_type": "code",
   "execution_count": 37,
   "id": "4f78dc83",
   "metadata": {},
   "outputs": [],
   "source": [
    "#Q4  = F1 score = 2 * P * R / (P + R)"
   ]
  },
  {
   "cell_type": "code",
   "execution_count": 38,
   "id": "270a0bd5",
   "metadata": {},
   "outputs": [],
   "source": [
    "df_scores_recall['F1_score'] = 2 * (df_scores_recall.precision * df_scores_recall.recall) / (df_scores_recall.precision + df_scores_recall.recall)"
   ]
  },
  {
   "cell_type": "code",
   "execution_count": 39,
   "id": "a2a10b5a",
   "metadata": {},
   "outputs": [
    {
     "data": {
      "text/html": [
       "<div>\n",
       "<style scoped>\n",
       "    .dataframe tbody tr th:only-of-type {\n",
       "        vertical-align: middle;\n",
       "    }\n",
       "\n",
       "    .dataframe tbody tr th {\n",
       "        vertical-align: top;\n",
       "    }\n",
       "\n",
       "    .dataframe thead th {\n",
       "        text-align: right;\n",
       "    }\n",
       "</style>\n",
       "<table border=\"1\" class=\"dataframe\">\n",
       "  <thead>\n",
       "    <tr style=\"text-align: right;\">\n",
       "      <th></th>\n",
       "      <th>threshold</th>\n",
       "      <th>tp</th>\n",
       "      <th>fp</th>\n",
       "      <th>fn</th>\n",
       "      <th>tn</th>\n",
       "      <th>precision</th>\n",
       "      <th>recall</th>\n",
       "      <th>F1_score</th>\n",
       "    </tr>\n",
       "  </thead>\n",
       "  <tbody>\n",
       "    <tr>\n",
       "      <th>54</th>\n",
       "      <td>0.54</td>\n",
       "      <td>554</td>\n",
       "      <td>56</td>\n",
       "      <td>92</td>\n",
       "      <td>1681</td>\n",
       "      <td>0.908197</td>\n",
       "      <td>0.857585</td>\n",
       "      <td>0.882166</td>\n",
       "    </tr>\n",
       "  </tbody>\n",
       "</table>\n",
       "</div>"
      ],
      "text/plain": [
       "    threshold   tp  fp  fn    tn  precision    recall  F1_score\n",
       "54       0.54  554  56  92  1681   0.908197  0.857585  0.882166"
      ]
     },
     "execution_count": 39,
     "metadata": {},
     "output_type": "execute_result"
    }
   ],
   "source": [
    "df_scores_recall[df_scores_recall['F1_score'] == df_scores_recall['F1_score'].max()]"
   ]
  },
  {
   "cell_type": "code",
   "execution_count": 40,
   "id": "f4a6198f",
   "metadata": {},
   "outputs": [
    {
     "name": "stdout",
     "output_type": "stream",
     "text": [
      "thresholds : 0.12 ; f1: [0.80352645]\n",
      "thresholds : 0.32 ; f1: [0.86169442]\n",
      "thresholds : 0.52 ; f1: [0.88202692]\n",
      "thresholds : 0.72 ; f1: [0.82005372]\n"
     ]
    }
   ],
   "source": [
    "thresholds_to_test = [0.12, 0.32, 0.52, 0.72]\n",
    "\n",
    "for t in thresholds_to_test:\n",
    "    f1_scores = df_scores_recall[df_scores_recall[\"threshold\"] == t][\"F1_score\"].values\n",
    "    print(f\"thresholds : {t} ; f1: {f1_scores}\")"
   ]
  },
  {
   "cell_type": "code",
   "execution_count": null,
   "id": "aceba15f",
   "metadata": {},
   "outputs": [],
   "source": [
    "# thresholds : 0.52 ; f1: [0.88202692]"
   ]
  },
  {
   "cell_type": "code",
   "execution_count": 41,
   "id": "f2ecbb0c",
   "metadata": {},
   "outputs": [],
   "source": [
    "#Q5"
   ]
  },
  {
   "cell_type": "code",
   "execution_count": 42,
   "id": "3fe21248",
   "metadata": {},
   "outputs": [],
   "source": [
    "dv = DictVectorizer(sparse=False)\n",
    "train_dict = df_full_train.to_dict(orient='records')\n",
    "dv_fit_2 = dv.fit(train_dict)\n",
    "\n",
    "df_full_train_ohe = dv_fit_2.transform(train_dict)\n",
    "df_full_train_ohe = pd.DataFrame(df_full_train_ohe, columns=dv_fit_2.get_feature_names_out())"
   ]
  },
  {
   "cell_type": "code",
   "execution_count": 43,
   "id": "3b331d29",
   "metadata": {},
   "outputs": [
    {
     "data": {
      "text/html": [
       "<div>\n",
       "<style scoped>\n",
       "    .dataframe tbody tr th:only-of-type {\n",
       "        vertical-align: middle;\n",
       "    }\n",
       "\n",
       "    .dataframe tbody tr th {\n",
       "        vertical-align: top;\n",
       "    }\n",
       "\n",
       "    .dataframe thead th {\n",
       "        text-align: right;\n",
       "    }\n",
       "</style>\n",
       "<table border=\"1\" class=\"dataframe\">\n",
       "  <thead>\n",
       "    <tr style=\"text-align: right;\">\n",
       "      <th></th>\n",
       "      <th>above_average</th>\n",
       "      <th>city mpg</th>\n",
       "      <th>engine cylinders</th>\n",
       "      <th>engine hp</th>\n",
       "      <th>highway mpg</th>\n",
       "      <th>make=acura</th>\n",
       "      <th>make=alfa_romeo</th>\n",
       "      <th>make=aston_martin</th>\n",
       "      <th>make=audi</th>\n",
       "      <th>make=bentley</th>\n",
       "      <th>...</th>\n",
       "      <th>vehicle style=convertible_suv</th>\n",
       "      <th>vehicle style=coupe</th>\n",
       "      <th>vehicle style=crew_cab_pickup</th>\n",
       "      <th>vehicle style=extended_cab_pickup</th>\n",
       "      <th>vehicle style=passenger_minivan</th>\n",
       "      <th>vehicle style=passenger_van</th>\n",
       "      <th>vehicle style=regular_cab_pickup</th>\n",
       "      <th>vehicle style=sedan</th>\n",
       "      <th>vehicle style=wagon</th>\n",
       "      <th>year</th>\n",
       "    </tr>\n",
       "  </thead>\n",
       "  <tbody>\n",
       "    <tr>\n",
       "      <th>0</th>\n",
       "      <td>1.0</td>\n",
       "      <td>15.0</td>\n",
       "      <td>8.0</td>\n",
       "      <td>382.0</td>\n",
       "      <td>22.0</td>\n",
       "      <td>0.0</td>\n",
       "      <td>0.0</td>\n",
       "      <td>0.0</td>\n",
       "      <td>0.0</td>\n",
       "      <td>0.0</td>\n",
       "      <td>...</td>\n",
       "      <td>0.0</td>\n",
       "      <td>1.0</td>\n",
       "      <td>0.0</td>\n",
       "      <td>0.0</td>\n",
       "      <td>0.0</td>\n",
       "      <td>0.0</td>\n",
       "      <td>0.0</td>\n",
       "      <td>0.0</td>\n",
       "      <td>0.0</td>\n",
       "      <td>2007.0</td>\n",
       "    </tr>\n",
       "    <tr>\n",
       "      <th>1</th>\n",
       "      <td>0.0</td>\n",
       "      <td>18.0</td>\n",
       "      <td>6.0</td>\n",
       "      <td>332.0</td>\n",
       "      <td>26.0</td>\n",
       "      <td>0.0</td>\n",
       "      <td>0.0</td>\n",
       "      <td>0.0</td>\n",
       "      <td>0.0</td>\n",
       "      <td>0.0</td>\n",
       "      <td>...</td>\n",
       "      <td>0.0</td>\n",
       "      <td>1.0</td>\n",
       "      <td>0.0</td>\n",
       "      <td>0.0</td>\n",
       "      <td>0.0</td>\n",
       "      <td>0.0</td>\n",
       "      <td>0.0</td>\n",
       "      <td>0.0</td>\n",
       "      <td>0.0</td>\n",
       "      <td>2016.0</td>\n",
       "    </tr>\n",
       "    <tr>\n",
       "      <th>2</th>\n",
       "      <td>0.0</td>\n",
       "      <td>18.0</td>\n",
       "      <td>6.0</td>\n",
       "      <td>285.0</td>\n",
       "      <td>24.0</td>\n",
       "      <td>0.0</td>\n",
       "      <td>0.0</td>\n",
       "      <td>0.0</td>\n",
       "      <td>0.0</td>\n",
       "      <td>0.0</td>\n",
       "      <td>...</td>\n",
       "      <td>0.0</td>\n",
       "      <td>0.0</td>\n",
       "      <td>0.0</td>\n",
       "      <td>1.0</td>\n",
       "      <td>0.0</td>\n",
       "      <td>0.0</td>\n",
       "      <td>0.0</td>\n",
       "      <td>0.0</td>\n",
       "      <td>0.0</td>\n",
       "      <td>2017.0</td>\n",
       "    </tr>\n",
       "    <tr>\n",
       "      <th>3</th>\n",
       "      <td>1.0</td>\n",
       "      <td>19.0</td>\n",
       "      <td>6.0</td>\n",
       "      <td>350.0</td>\n",
       "      <td>26.0</td>\n",
       "      <td>0.0</td>\n",
       "      <td>0.0</td>\n",
       "      <td>0.0</td>\n",
       "      <td>0.0</td>\n",
       "      <td>0.0</td>\n",
       "      <td>...</td>\n",
       "      <td>0.0</td>\n",
       "      <td>0.0</td>\n",
       "      <td>0.0</td>\n",
       "      <td>0.0</td>\n",
       "      <td>0.0</td>\n",
       "      <td>0.0</td>\n",
       "      <td>0.0</td>\n",
       "      <td>0.0</td>\n",
       "      <td>0.0</td>\n",
       "      <td>2016.0</td>\n",
       "    </tr>\n",
       "    <tr>\n",
       "      <th>4</th>\n",
       "      <td>0.0</td>\n",
       "      <td>21.0</td>\n",
       "      <td>4.0</td>\n",
       "      <td>200.0</td>\n",
       "      <td>31.0</td>\n",
       "      <td>0.0</td>\n",
       "      <td>0.0</td>\n",
       "      <td>0.0</td>\n",
       "      <td>0.0</td>\n",
       "      <td>0.0</td>\n",
       "      <td>...</td>\n",
       "      <td>0.0</td>\n",
       "      <td>0.0</td>\n",
       "      <td>0.0</td>\n",
       "      <td>0.0</td>\n",
       "      <td>0.0</td>\n",
       "      <td>0.0</td>\n",
       "      <td>0.0</td>\n",
       "      <td>0.0</td>\n",
       "      <td>0.0</td>\n",
       "      <td>2013.0</td>\n",
       "    </tr>\n",
       "    <tr>\n",
       "      <th>...</th>\n",
       "      <td>...</td>\n",
       "      <td>...</td>\n",
       "      <td>...</td>\n",
       "      <td>...</td>\n",
       "      <td>...</td>\n",
       "      <td>...</td>\n",
       "      <td>...</td>\n",
       "      <td>...</td>\n",
       "      <td>...</td>\n",
       "      <td>...</td>\n",
       "      <td>...</td>\n",
       "      <td>...</td>\n",
       "      <td>...</td>\n",
       "      <td>...</td>\n",
       "      <td>...</td>\n",
       "      <td>...</td>\n",
       "      <td>...</td>\n",
       "      <td>...</td>\n",
       "      <td>...</td>\n",
       "      <td>...</td>\n",
       "      <td>...</td>\n",
       "    </tr>\n",
       "    <tr>\n",
       "      <th>9526</th>\n",
       "      <td>1.0</td>\n",
       "      <td>18.0</td>\n",
       "      <td>6.0</td>\n",
       "      <td>272.0</td>\n",
       "      <td>26.0</td>\n",
       "      <td>0.0</td>\n",
       "      <td>0.0</td>\n",
       "      <td>0.0</td>\n",
       "      <td>1.0</td>\n",
       "      <td>0.0</td>\n",
       "      <td>...</td>\n",
       "      <td>0.0</td>\n",
       "      <td>0.0</td>\n",
       "      <td>0.0</td>\n",
       "      <td>0.0</td>\n",
       "      <td>0.0</td>\n",
       "      <td>0.0</td>\n",
       "      <td>0.0</td>\n",
       "      <td>0.0</td>\n",
       "      <td>0.0</td>\n",
       "      <td>2016.0</td>\n",
       "    </tr>\n",
       "    <tr>\n",
       "      <th>9527</th>\n",
       "      <td>1.0</td>\n",
       "      <td>13.0</td>\n",
       "      <td>8.0</td>\n",
       "      <td>381.0</td>\n",
       "      <td>17.0</td>\n",
       "      <td>0.0</td>\n",
       "      <td>0.0</td>\n",
       "      <td>0.0</td>\n",
       "      <td>0.0</td>\n",
       "      <td>0.0</td>\n",
       "      <td>...</td>\n",
       "      <td>0.0</td>\n",
       "      <td>0.0</td>\n",
       "      <td>1.0</td>\n",
       "      <td>0.0</td>\n",
       "      <td>0.0</td>\n",
       "      <td>0.0</td>\n",
       "      <td>0.0</td>\n",
       "      <td>0.0</td>\n",
       "      <td>0.0</td>\n",
       "      <td>2015.0</td>\n",
       "    </tr>\n",
       "    <tr>\n",
       "      <th>9528</th>\n",
       "      <td>0.0</td>\n",
       "      <td>18.0</td>\n",
       "      <td>4.0</td>\n",
       "      <td>150.0</td>\n",
       "      <td>26.0</td>\n",
       "      <td>0.0</td>\n",
       "      <td>0.0</td>\n",
       "      <td>0.0</td>\n",
       "      <td>0.0</td>\n",
       "      <td>0.0</td>\n",
       "      <td>...</td>\n",
       "      <td>0.0</td>\n",
       "      <td>0.0</td>\n",
       "      <td>0.0</td>\n",
       "      <td>0.0</td>\n",
       "      <td>0.0</td>\n",
       "      <td>0.0</td>\n",
       "      <td>0.0</td>\n",
       "      <td>0.0</td>\n",
       "      <td>0.0</td>\n",
       "      <td>1997.0</td>\n",
       "    </tr>\n",
       "    <tr>\n",
       "      <th>9529</th>\n",
       "      <td>0.0</td>\n",
       "      <td>22.0</td>\n",
       "      <td>4.0</td>\n",
       "      <td>164.0</td>\n",
       "      <td>33.0</td>\n",
       "      <td>0.0</td>\n",
       "      <td>0.0</td>\n",
       "      <td>0.0</td>\n",
       "      <td>0.0</td>\n",
       "      <td>0.0</td>\n",
       "      <td>...</td>\n",
       "      <td>0.0</td>\n",
       "      <td>1.0</td>\n",
       "      <td>0.0</td>\n",
       "      <td>0.0</td>\n",
       "      <td>0.0</td>\n",
       "      <td>0.0</td>\n",
       "      <td>0.0</td>\n",
       "      <td>0.0</td>\n",
       "      <td>0.0</td>\n",
       "      <td>2009.0</td>\n",
       "    </tr>\n",
       "    <tr>\n",
       "      <th>9530</th>\n",
       "      <td>0.0</td>\n",
       "      <td>16.0</td>\n",
       "      <td>6.0</td>\n",
       "      <td>255.0</td>\n",
       "      <td>25.0</td>\n",
       "      <td>0.0</td>\n",
       "      <td>0.0</td>\n",
       "      <td>0.0</td>\n",
       "      <td>0.0</td>\n",
       "      <td>0.0</td>\n",
       "      <td>...</td>\n",
       "      <td>0.0</td>\n",
       "      <td>0.0</td>\n",
       "      <td>0.0</td>\n",
       "      <td>0.0</td>\n",
       "      <td>0.0</td>\n",
       "      <td>0.0</td>\n",
       "      <td>0.0</td>\n",
       "      <td>1.0</td>\n",
       "      <td>0.0</td>\n",
       "      <td>2003.0</td>\n",
       "    </tr>\n",
       "  </tbody>\n",
       "</table>\n",
       "<p>9531 rows × 975 columns</p>\n",
       "</div>"
      ],
      "text/plain": [
       "      above_average  city mpg  engine cylinders  engine hp  highway mpg  \\\n",
       "0               1.0      15.0               8.0      382.0         22.0   \n",
       "1               0.0      18.0               6.0      332.0         26.0   \n",
       "2               0.0      18.0               6.0      285.0         24.0   \n",
       "3               1.0      19.0               6.0      350.0         26.0   \n",
       "4               0.0      21.0               4.0      200.0         31.0   \n",
       "...             ...       ...               ...        ...          ...   \n",
       "9526            1.0      18.0               6.0      272.0         26.0   \n",
       "9527            1.0      13.0               8.0      381.0         17.0   \n",
       "9528            0.0      18.0               4.0      150.0         26.0   \n",
       "9529            0.0      22.0               4.0      164.0         33.0   \n",
       "9530            0.0      16.0               6.0      255.0         25.0   \n",
       "\n",
       "      make=acura  make=alfa_romeo  make=aston_martin  make=audi  make=bentley  \\\n",
       "0            0.0              0.0                0.0        0.0           0.0   \n",
       "1            0.0              0.0                0.0        0.0           0.0   \n",
       "2            0.0              0.0                0.0        0.0           0.0   \n",
       "3            0.0              0.0                0.0        0.0           0.0   \n",
       "4            0.0              0.0                0.0        0.0           0.0   \n",
       "...          ...              ...                ...        ...           ...   \n",
       "9526         0.0              0.0                0.0        1.0           0.0   \n",
       "9527         0.0              0.0                0.0        0.0           0.0   \n",
       "9528         0.0              0.0                0.0        0.0           0.0   \n",
       "9529         0.0              0.0                0.0        0.0           0.0   \n",
       "9530         0.0              0.0                0.0        0.0           0.0   \n",
       "\n",
       "      ...  vehicle style=convertible_suv  vehicle style=coupe  \\\n",
       "0     ...                            0.0                  1.0   \n",
       "1     ...                            0.0                  1.0   \n",
       "2     ...                            0.0                  0.0   \n",
       "3     ...                            0.0                  0.0   \n",
       "4     ...                            0.0                  0.0   \n",
       "...   ...                            ...                  ...   \n",
       "9526  ...                            0.0                  0.0   \n",
       "9527  ...                            0.0                  0.0   \n",
       "9528  ...                            0.0                  0.0   \n",
       "9529  ...                            0.0                  1.0   \n",
       "9530  ...                            0.0                  0.0   \n",
       "\n",
       "      vehicle style=crew_cab_pickup  vehicle style=extended_cab_pickup  \\\n",
       "0                               0.0                                0.0   \n",
       "1                               0.0                                0.0   \n",
       "2                               0.0                                1.0   \n",
       "3                               0.0                                0.0   \n",
       "4                               0.0                                0.0   \n",
       "...                             ...                                ...   \n",
       "9526                            0.0                                0.0   \n",
       "9527                            1.0                                0.0   \n",
       "9528                            0.0                                0.0   \n",
       "9529                            0.0                                0.0   \n",
       "9530                            0.0                                0.0   \n",
       "\n",
       "      vehicle style=passenger_minivan  vehicle style=passenger_van  \\\n",
       "0                                 0.0                          0.0   \n",
       "1                                 0.0                          0.0   \n",
       "2                                 0.0                          0.0   \n",
       "3                                 0.0                          0.0   \n",
       "4                                 0.0                          0.0   \n",
       "...                               ...                          ...   \n",
       "9526                              0.0                          0.0   \n",
       "9527                              0.0                          0.0   \n",
       "9528                              0.0                          0.0   \n",
       "9529                              0.0                          0.0   \n",
       "9530                              0.0                          0.0   \n",
       "\n",
       "      vehicle style=regular_cab_pickup  vehicle style=sedan  \\\n",
       "0                                  0.0                  0.0   \n",
       "1                                  0.0                  0.0   \n",
       "2                                  0.0                  0.0   \n",
       "3                                  0.0                  0.0   \n",
       "4                                  0.0                  0.0   \n",
       "...                                ...                  ...   \n",
       "9526                               0.0                  0.0   \n",
       "9527                               0.0                  0.0   \n",
       "9528                               0.0                  0.0   \n",
       "9529                               0.0                  0.0   \n",
       "9530                               0.0                  1.0   \n",
       "\n",
       "      vehicle style=wagon    year  \n",
       "0                     0.0  2007.0  \n",
       "1                     0.0  2016.0  \n",
       "2                     0.0  2017.0  \n",
       "3                     0.0  2016.0  \n",
       "4                     0.0  2013.0  \n",
       "...                   ...     ...  \n",
       "9526                  0.0  2016.0  \n",
       "9527                  0.0  2015.0  \n",
       "9528                  0.0  1997.0  \n",
       "9529                  0.0  2009.0  \n",
       "9530                  0.0  2003.0  \n",
       "\n",
       "[9531 rows x 975 columns]"
      ]
     },
     "execution_count": 43,
     "metadata": {},
     "output_type": "execute_result"
    }
   ],
   "source": [
    "df_full_train_ohe"
   ]
  },
  {
   "cell_type": "code",
   "execution_count": 44,
   "id": "915bbf18",
   "metadata": {},
   "outputs": [
    {
     "name": "stdout",
     "output_type": "stream",
     "text": [
      "0.9784898110716937\n",
      "0.9774885099177553\n",
      "0.9830614578104959\n",
      "0.9772753889911328\n",
      "0.9776889776889778\n",
      "Std auc_scores : 0.002169564562056365\n"
     ]
    }
   ],
   "source": [
    "from sklearn.model_selection import KFold\n",
    "from sklearn.linear_model import LogisticRegression\n",
    "from sklearn.metrics import roc_auc_score\n",
    "\n",
    "kf = KFold(n_splits=5, shuffle=True, random_state=1)\n",
    "\n",
    "auc_scores = []\n",
    "\n",
    "for train_index, val_index in kf.split(df_full_train_ohe):\n",
    "    \n",
    "    X_train, X_val = df_full_train_ohe.iloc[train_index].drop(columns=['above_average','price']), df_full_train_ohe.iloc[val_index].drop(columns=['above_average','price'])\n",
    "    y_train, y_val = df_full_train_ohe.iloc[train_index]['above_average'], df_full_train_ohe.iloc[val_index]['above_average']\n",
    "    \n",
    "    model_reg_kf = LogisticRegression(solver='liblinear', C=1.0, max_iter=1000)\n",
    "    \n",
    "    model_reg_kf.fit(X_train, y_train)\n",
    "    \n",
    "    y_val_pred = model_reg_kf.predict_proba(X_val)[:, 1]\n",
    "    \n",
    "    auc_score = roc_auc_score(y_val, y_val_pred)\n",
    "    \n",
    "    print(auc_score)\n",
    "    \n",
    "    auc_scores.append(auc_score)\n",
    "\n",
    "print(\"Std auc_scores :\", np.std(auc_scores))"
   ]
  },
  {
   "cell_type": "code",
   "execution_count": 45,
   "id": "68ab38f0",
   "metadata": {},
   "outputs": [],
   "source": [
    "#Q6"
   ]
  },
  {
   "cell_type": "code",
   "execution_count": 46,
   "id": "86355555",
   "metadata": {},
   "outputs": [
    {
     "name": "stdout",
     "output_type": "stream",
     "text": [
      "0.9817754310700437\n",
      "0.9805740643004794\n",
      "0.9848000669232055\n",
      "0.9798867882438236\n",
      "0.9890415140415141\n",
      "Std auc_scores : 0.0035894923649973805\n"
     ]
    }
   ],
   "source": [
    "kf = KFold(n_splits=5, shuffle=True, random_state=1)\n",
    "\n",
    "mean_scores = []\n",
    "\n",
    "for train_index, val_index in kf.split(df_full_train_ohe):\n",
    "    \n",
    "    X_train, X_val = df_full_train_ohe.iloc[train_index].drop(columns=['above_average','price']), df_full_train_ohe.iloc[val_index].drop(columns=['above_average','price'])\n",
    "    y_train, y_val = df_full_train_ohe.iloc[train_index]['above_average'], df_full_train_ohe.iloc[val_index]['above_average']\n",
    "    \n",
    "    for c in [0.01, 0.1, 0.5, 10]:\n",
    "    \n",
    "        model_reg_kf = LogisticRegression(solver='liblinear', C=c, max_iter=1000)\n",
    "        \n",
    "        model_reg_kf.fit(X_train, y_train)\n",
    "        \n",
    "        y_val_pred = model_reg_kf.predict_proba(X_val)[:, 1]\n",
    "        \n",
    "        auc_score = roc_auc_score(y_val, y_val_pred)\n",
    "        \n",
    "    print(auc_score)\n",
    "    \n",
    "    auc_scores.append(auc_score)\n",
    "\n",
    "print(\"Std auc_scores :\", np.std(auc_scores))"
   ]
  },
  {
   "cell_type": "code",
   "execution_count": 47,
   "id": "445d1d74",
   "metadata": {},
   "outputs": [],
   "source": [
    "#0.9817754310700437"
   ]
  },
  {
   "cell_type": "code",
   "execution_count": 48,
   "id": "275895ac",
   "metadata": {},
   "outputs": [
    {
     "name": "stdout",
     "output_type": "stream",
     "text": [
      "0.9555619723345158\n",
      "0.948513161366935\n",
      "0.9504336066030897\n",
      "0.9531844292008254\n",
      "0.9502400377400377\n",
      "C : 0.01 , score moyen :  0.9515866414490807 \n",
      "0.9704651706404861\n",
      "0.9700584399876853\n",
      "0.9740031230829289\n",
      "0.9710891751714907\n",
      "0.9733821733821734\n",
      "C : 0.1 , score moyen :  0.9717996164529529 \n",
      "0.9745400544509528\n",
      "0.977029456392664\n",
      "0.98294991913446\n",
      "0.9777285148625285\n",
      "0.9777125652125652\n",
      "C : 0.5 , score moyen :  0.9779921020106341 \n",
      "0.9817754310700437\n",
      "0.9805740643004794\n",
      "0.9848000669232055\n",
      "0.9798867882438236\n",
      "0.9890415140415141\n",
      "C : 10 , score moyen :  0.9832155729158132 \n",
      "C : 10 , score moyen :  0.9832155729158132 \n"
     ]
    }
   ],
   "source": [
    "scores_c = []\n",
    "\n",
    "for c in [0.01, 0.1, 0.5, 10]:\n",
    "    \n",
    "    mean_scores = []\n",
    "    \n",
    "    for train_index, val_index in kf.split(df_full_train_ohe):\n",
    "    \n",
    "        X_train, X_val = df_full_train_ohe.iloc[train_index].drop(columns=['above_average','price']), df_full_train_ohe.iloc[val_index].drop(columns=['above_average','price'])\n",
    "        y_train, y_val = df_full_train_ohe.iloc[train_index]['above_average'], df_full_train_ohe.iloc[val_index]['above_average']\n",
    "        \n",
    "        model_reg_kf = LogisticRegression(solver='liblinear', C=c, max_iter=1000)\n",
    "        \n",
    "        model_reg_kf.fit(X_train, y_train)\n",
    "        \n",
    "        y_val_pred = model_reg_kf.predict_proba(X_val)[:, 1]\n",
    "        \n",
    "        mean_score = roc_auc_score(y_val, y_val_pred)\n",
    "        print(mean_score)\n",
    "    \n",
    "        mean_scores.append(mean_score)\n",
    "    \n",
    "    scores_c.append(np.array(mean_scores).mean())\n",
    "        \n",
    "    print(f'C : {c} , score moyen :  {np.array(mean_scores).mean()} ')\n",
    "    \n",
    "print(f'C : {c} , score moyen :  {np.array(mean_scores).mean()} ')"
   ]
  },
  {
   "cell_type": "code",
   "execution_count": 49,
   "id": "e998524c",
   "metadata": {},
   "outputs": [],
   "source": [
    "#C : 10 , score moyen :  0.9832155729158132 "
   ]
  },
  {
   "cell_type": "code",
   "execution_count": null,
   "id": "cdba5aae",
   "metadata": {},
   "outputs": [],
   "source": []
  },
  {
   "cell_type": "code",
   "execution_count": null,
   "id": "ced8bf12",
   "metadata": {},
   "outputs": [],
   "source": []
  },
  {
   "cell_type": "code",
   "execution_count": null,
   "id": "a114da6b",
   "metadata": {},
   "outputs": [],
   "source": []
  },
  {
   "cell_type": "code",
   "execution_count": null,
   "id": "4ad452cd",
   "metadata": {},
   "outputs": [],
   "source": []
  }
 ],
 "metadata": {
  "kernelspec": {
   "display_name": "Python 3 (ipykernel)",
   "language": "python",
   "name": "python3"
  },
  "language_info": {
   "codemirror_mode": {
    "name": "ipython",
    "version": 3
   },
   "file_extension": ".py",
   "mimetype": "text/x-python",
   "name": "python",
   "nbconvert_exporter": "python",
   "pygments_lexer": "ipython3",
   "version": "3.11.4"
  }
 },
 "nbformat": 4,
 "nbformat_minor": 5
}
