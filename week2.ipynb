{
 "cells": [
  {
   "cell_type": "code",
   "execution_count": 438,
   "id": "1937c9c0",
   "metadata": {},
   "outputs": [],
   "source": [
    "import pandas as pd\n",
    "import numpy as np\n",
    "\n",
    "import seaborn as sns\n",
    "from matplotlib import pyplot as plt\n",
    "%matplotlib inline"
   ]
  },
  {
   "cell_type": "code",
   "execution_count": 439,
   "id": "cf2bafa3",
   "metadata": {},
   "outputs": [
    {
     "data": {
      "text/plain": [
       "'1.5.3'"
      ]
     },
     "execution_count": 439,
     "metadata": {},
     "output_type": "execute_result"
    }
   ],
   "source": [
    "pd.__version__"
   ]
  },
  {
   "cell_type": "code",
   "execution_count": 440,
   "id": "d84e9770",
   "metadata": {},
   "outputs": [],
   "source": [
    "housing = pd.read_csv(r'C:\\Users\\pc\\Documents\\housing.csv')"
   ]
  },
  {
   "cell_type": "code",
   "execution_count": 441,
   "id": "d8c4e8ab",
   "metadata": {},
   "outputs": [
    {
     "data": {
      "text/plain": [
       "(20640, 10)"
      ]
     },
     "execution_count": 441,
     "metadata": {},
     "output_type": "execute_result"
    }
   ],
   "source": [
    "housing.shape"
   ]
  },
  {
   "cell_type": "code",
   "execution_count": 442,
   "id": "168b2fbf",
   "metadata": {},
   "outputs": [
    {
     "data": {
      "text/html": [
       "<div>\n",
       "<style scoped>\n",
       "    .dataframe tbody tr th:only-of-type {\n",
       "        vertical-align: middle;\n",
       "    }\n",
       "\n",
       "    .dataframe tbody tr th {\n",
       "        vertical-align: top;\n",
       "    }\n",
       "\n",
       "    .dataframe thead th {\n",
       "        text-align: right;\n",
       "    }\n",
       "</style>\n",
       "<table border=\"1\" class=\"dataframe\">\n",
       "  <thead>\n",
       "    <tr style=\"text-align: right;\">\n",
       "      <th></th>\n",
       "      <th>longitude</th>\n",
       "      <th>latitude</th>\n",
       "      <th>housing_median_age</th>\n",
       "      <th>total_rooms</th>\n",
       "      <th>total_bedrooms</th>\n",
       "      <th>population</th>\n",
       "      <th>households</th>\n",
       "      <th>median_income</th>\n",
       "      <th>median_house_value</th>\n",
       "      <th>ocean_proximity</th>\n",
       "    </tr>\n",
       "  </thead>\n",
       "  <tbody>\n",
       "    <tr>\n",
       "      <th>count</th>\n",
       "      <td>20640.000000</td>\n",
       "      <td>20640.000000</td>\n",
       "      <td>20640.000000</td>\n",
       "      <td>20640.000000</td>\n",
       "      <td>20433.000000</td>\n",
       "      <td>20640.000000</td>\n",
       "      <td>20640.000000</td>\n",
       "      <td>20640.000000</td>\n",
       "      <td>20640.000000</td>\n",
       "      <td>20640</td>\n",
       "    </tr>\n",
       "    <tr>\n",
       "      <th>unique</th>\n",
       "      <td>NaN</td>\n",
       "      <td>NaN</td>\n",
       "      <td>NaN</td>\n",
       "      <td>NaN</td>\n",
       "      <td>NaN</td>\n",
       "      <td>NaN</td>\n",
       "      <td>NaN</td>\n",
       "      <td>NaN</td>\n",
       "      <td>NaN</td>\n",
       "      <td>5</td>\n",
       "    </tr>\n",
       "    <tr>\n",
       "      <th>top</th>\n",
       "      <td>NaN</td>\n",
       "      <td>NaN</td>\n",
       "      <td>NaN</td>\n",
       "      <td>NaN</td>\n",
       "      <td>NaN</td>\n",
       "      <td>NaN</td>\n",
       "      <td>NaN</td>\n",
       "      <td>NaN</td>\n",
       "      <td>NaN</td>\n",
       "      <td>&lt;1H OCEAN</td>\n",
       "    </tr>\n",
       "    <tr>\n",
       "      <th>freq</th>\n",
       "      <td>NaN</td>\n",
       "      <td>NaN</td>\n",
       "      <td>NaN</td>\n",
       "      <td>NaN</td>\n",
       "      <td>NaN</td>\n",
       "      <td>NaN</td>\n",
       "      <td>NaN</td>\n",
       "      <td>NaN</td>\n",
       "      <td>NaN</td>\n",
       "      <td>9136</td>\n",
       "    </tr>\n",
       "    <tr>\n",
       "      <th>mean</th>\n",
       "      <td>-119.569704</td>\n",
       "      <td>35.631861</td>\n",
       "      <td>28.639486</td>\n",
       "      <td>2635.763081</td>\n",
       "      <td>537.870553</td>\n",
       "      <td>1425.476744</td>\n",
       "      <td>499.539680</td>\n",
       "      <td>3.870671</td>\n",
       "      <td>206855.816909</td>\n",
       "      <td>NaN</td>\n",
       "    </tr>\n",
       "    <tr>\n",
       "      <th>std</th>\n",
       "      <td>2.003532</td>\n",
       "      <td>2.135952</td>\n",
       "      <td>12.585558</td>\n",
       "      <td>2181.615252</td>\n",
       "      <td>421.385070</td>\n",
       "      <td>1132.462122</td>\n",
       "      <td>382.329753</td>\n",
       "      <td>1.899822</td>\n",
       "      <td>115395.615874</td>\n",
       "      <td>NaN</td>\n",
       "    </tr>\n",
       "    <tr>\n",
       "      <th>min</th>\n",
       "      <td>-124.350000</td>\n",
       "      <td>32.540000</td>\n",
       "      <td>1.000000</td>\n",
       "      <td>2.000000</td>\n",
       "      <td>1.000000</td>\n",
       "      <td>3.000000</td>\n",
       "      <td>1.000000</td>\n",
       "      <td>0.499900</td>\n",
       "      <td>14999.000000</td>\n",
       "      <td>NaN</td>\n",
       "    </tr>\n",
       "    <tr>\n",
       "      <th>25%</th>\n",
       "      <td>-121.800000</td>\n",
       "      <td>33.930000</td>\n",
       "      <td>18.000000</td>\n",
       "      <td>1447.750000</td>\n",
       "      <td>296.000000</td>\n",
       "      <td>787.000000</td>\n",
       "      <td>280.000000</td>\n",
       "      <td>2.563400</td>\n",
       "      <td>119600.000000</td>\n",
       "      <td>NaN</td>\n",
       "    </tr>\n",
       "    <tr>\n",
       "      <th>50%</th>\n",
       "      <td>-118.490000</td>\n",
       "      <td>34.260000</td>\n",
       "      <td>29.000000</td>\n",
       "      <td>2127.000000</td>\n",
       "      <td>435.000000</td>\n",
       "      <td>1166.000000</td>\n",
       "      <td>409.000000</td>\n",
       "      <td>3.534800</td>\n",
       "      <td>179700.000000</td>\n",
       "      <td>NaN</td>\n",
       "    </tr>\n",
       "    <tr>\n",
       "      <th>75%</th>\n",
       "      <td>-118.010000</td>\n",
       "      <td>37.710000</td>\n",
       "      <td>37.000000</td>\n",
       "      <td>3148.000000</td>\n",
       "      <td>647.000000</td>\n",
       "      <td>1725.000000</td>\n",
       "      <td>605.000000</td>\n",
       "      <td>4.743250</td>\n",
       "      <td>264725.000000</td>\n",
       "      <td>NaN</td>\n",
       "    </tr>\n",
       "    <tr>\n",
       "      <th>max</th>\n",
       "      <td>-114.310000</td>\n",
       "      <td>41.950000</td>\n",
       "      <td>52.000000</td>\n",
       "      <td>39320.000000</td>\n",
       "      <td>6445.000000</td>\n",
       "      <td>35682.000000</td>\n",
       "      <td>6082.000000</td>\n",
       "      <td>15.000100</td>\n",
       "      <td>500001.000000</td>\n",
       "      <td>NaN</td>\n",
       "    </tr>\n",
       "  </tbody>\n",
       "</table>\n",
       "</div>"
      ],
      "text/plain": [
       "           longitude      latitude  housing_median_age   total_rooms  \\\n",
       "count   20640.000000  20640.000000        20640.000000  20640.000000   \n",
       "unique           NaN           NaN                 NaN           NaN   \n",
       "top              NaN           NaN                 NaN           NaN   \n",
       "freq             NaN           NaN                 NaN           NaN   \n",
       "mean     -119.569704     35.631861           28.639486   2635.763081   \n",
       "std         2.003532      2.135952           12.585558   2181.615252   \n",
       "min      -124.350000     32.540000            1.000000      2.000000   \n",
       "25%      -121.800000     33.930000           18.000000   1447.750000   \n",
       "50%      -118.490000     34.260000           29.000000   2127.000000   \n",
       "75%      -118.010000     37.710000           37.000000   3148.000000   \n",
       "max      -114.310000     41.950000           52.000000  39320.000000   \n",
       "\n",
       "        total_bedrooms    population    households  median_income  \\\n",
       "count     20433.000000  20640.000000  20640.000000   20640.000000   \n",
       "unique             NaN           NaN           NaN            NaN   \n",
       "top                NaN           NaN           NaN            NaN   \n",
       "freq               NaN           NaN           NaN            NaN   \n",
       "mean        537.870553   1425.476744    499.539680       3.870671   \n",
       "std         421.385070   1132.462122    382.329753       1.899822   \n",
       "min           1.000000      3.000000      1.000000       0.499900   \n",
       "25%         296.000000    787.000000    280.000000       2.563400   \n",
       "50%         435.000000   1166.000000    409.000000       3.534800   \n",
       "75%         647.000000   1725.000000    605.000000       4.743250   \n",
       "max        6445.000000  35682.000000   6082.000000      15.000100   \n",
       "\n",
       "        median_house_value ocean_proximity  \n",
       "count         20640.000000           20640  \n",
       "unique                 NaN               5  \n",
       "top                    NaN       <1H OCEAN  \n",
       "freq                   NaN            9136  \n",
       "mean         206855.816909             NaN  \n",
       "std          115395.615874             NaN  \n",
       "min           14999.000000             NaN  \n",
       "25%          119600.000000             NaN  \n",
       "50%          179700.000000             NaN  \n",
       "75%          264725.000000             NaN  \n",
       "max          500001.000000             NaN  "
      ]
     },
     "execution_count": 442,
     "metadata": {},
     "output_type": "execute_result"
    }
   ],
   "source": [
    "housing.describe(include='all')"
   ]
  },
  {
   "cell_type": "code",
   "execution_count": 443,
   "id": "91e21c53",
   "metadata": {},
   "outputs": [
    {
     "data": {
      "text/plain": [
       "<seaborn.axisgrid.FacetGrid at 0x2713bab50d0>"
      ]
     },
     "execution_count": 443,
     "metadata": {},
     "output_type": "execute_result"
    },
    {
     "data": {
      "image/png": "[encoded data removed]",
      "text/plain": [
       "<Figure size 500x500 with 1 Axes>"
      ]
     },
     "metadata": {},
     "output_type": "display_data"
    }
   ],
   "source": [
    "sns.displot(housing.median_house_value)"
   ]
  },
  {
   "cell_type": "code",
   "execution_count": 444,
   "id": "f9cd64b8",
   "metadata": {},
   "outputs": [
    {
     "data": {
      "text/plain": [
       "array(['NEAR BAY', '<1H OCEAN', 'INLAND', 'NEAR OCEAN', 'ISLAND'],\n",
       "      dtype=object)"
      ]
     },
     "execution_count": 444,
     "metadata": {},
     "output_type": "execute_result"
    }
   ],
   "source": [
    "housing['ocean_proximity'].unique()"
   ]
  },
  {
   "cell_type": "code",
   "execution_count": 445,
   "id": "c9b93149",
   "metadata": {},
   "outputs": [
    {
     "data": {
      "text/plain": [
       "<1H OCEAN    9136\n",
       "INLAND       6551\n",
       "Name: ocean_proximity, dtype: int64"
      ]
     },
     "execution_count": 445,
     "metadata": {},
     "output_type": "execute_result"
    }
   ],
   "source": [
    "df = housing.loc[(housing['ocean_proximity'] == 'INLAND') | (housing['ocean_proximity'] == '<1H OCEAN'), :]\n",
    "df['ocean_proximity'].value_counts()"
   ]
  },
  {
   "cell_type": "code",
   "execution_count": 446,
   "id": "e1c4c844",
   "metadata": {},
   "outputs": [
    {
     "name": "stdout",
     "output_type": "stream",
     "text": [
      "<class 'pandas.core.frame.DataFrame'>\n",
      "Int64Index: 15687 entries, 701 to 20639\n",
      "Data columns (total 10 columns):\n",
      " #   Column              Non-Null Count  Dtype  \n",
      "---  ------              --------------  -----  \n",
      " 0   longitude           15687 non-null  float64\n",
      " 1   latitude            15687 non-null  float64\n",
      " 2   housing_median_age  15687 non-null  float64\n",
      " 3   total_rooms         15687 non-null  float64\n",
      " 4   total_bedrooms      15530 non-null  float64\n",
      " 5   population          15687 non-null  float64\n",
      " 6   households          15687 non-null  float64\n",
      " 7   median_income       15687 non-null  float64\n",
      " 8   median_house_value  15687 non-null  float64\n",
      " 9   ocean_proximity     15687 non-null  object \n",
      "dtypes: float64(9), object(1)\n",
      "memory usage: 1.3+ MB\n"
     ]
    }
   ],
   "source": [
    "df.info()"
   ]
  },
  {
   "cell_type": "code",
   "execution_count": 447,
   "id": "552d3674",
   "metadata": {},
   "outputs": [],
   "source": [
    "# total bedroom with nan"
   ]
  },
  {
   "cell_type": "code",
   "execution_count": 448,
   "id": "1514bfa0",
   "metadata": {},
   "outputs": [],
   "source": [
    "df = df[['latitude',\n",
    "'longitude',\n",
    "'housing_median_age',\n",
    "'total_rooms',\n",
    "'total_bedrooms',\n",
    "'population',\n",
    "'households',\n",
    "'median_income',\n",
    "'median_house_value']]\n"
   ]
  },
  {
   "cell_type": "code",
   "execution_count": 449,
   "id": "abb12155",
   "metadata": {},
   "outputs": [
    {
     "data": {
      "text/plain": [
       "1195.0"
      ]
     },
     "execution_count": 449,
     "metadata": {},
     "output_type": "execute_result"
    }
   ],
   "source": [
    "df.population.median()"
   ]
  },
  {
   "cell_type": "code",
   "execution_count": 450,
   "id": "cdebee5b",
   "metadata": {},
   "outputs": [],
   "source": [
    "np.random.seed(42)\n",
    "\n",
    "n = len(df)\n",
    "\n",
    "n_val = int(0.2 * n)\n",
    "n_test = int(0.2 * n)\n",
    "n_train = n - (n_val + n_test)\n",
    "\n",
    "idx = np.arange(n)\n",
    "np.random.shuffle(idx)\n",
    "\n",
    "df_shuffled = df.iloc[idx]"
   ]
  },
  {
   "cell_type": "code",
   "execution_count": 451,
   "id": "cf8aa7d0",
   "metadata": {},
   "outputs": [],
   "source": [
    "# df shuffle / log\n",
    "df_train = df_shuffled.iloc[:n_train].copy()\n",
    "df_val = df_shuffled.iloc[n_train:n_train+n_val].copy()\n",
    "df_test = df_shuffled.iloc[n_train+n_val:].copy()\n",
    "\n",
    "y_train_orig = df_train.median_house_value.values\n",
    "y_val_orig = df_val.median_house_value.values\n",
    "y_test_orig = df_test.median_house_value.values\n",
    "\n",
    "y_train = np.log1p(df_train.median_house_value.values)\n",
    "y_val = np.log1p(df_val.median_house_value.values)\n",
    "y_test = np.log1p(df_test.median_house_value.values)\n",
    "\n",
    "del df_train['median_house_value']\n",
    "del df_val['median_house_value']\n",
    "del df_test['median_house_value']"
   ]
  },
  {
   "cell_type": "code",
   "execution_count": 452,
   "id": "1ee4c1b5",
   "metadata": {},
   "outputs": [],
   "source": [
    "def prepare_X(df):\n",
    "    df_num = df[base]\n",
    "    df_num = df_num.fillna(0)\n",
    "    X = df_num.values\n",
    "    return X"
   ]
  },
  {
   "cell_type": "code",
   "execution_count": 453,
   "id": "dead9ae3",
   "metadata": {},
   "outputs": [],
   "source": [
    "def train_linear_regression(X, y):\n",
    "    ones = np.ones(X.shape[0])\n",
    "    X = np.column_stack([ones, X])\n",
    "\n",
    "    XTX = X.T.dot(X)\n",
    "    XTX_inv = np.linalg.inv(XTX)\n",
    "    w = XTX_inv.dot(X.T).dot(y)\n",
    "    \n",
    "    return w[0], w[1:]"
   ]
  },
  {
   "cell_type": "code",
   "execution_count": 454,
   "id": "3bd64f4f",
   "metadata": {},
   "outputs": [],
   "source": [
    "def rmse(y, y_pred):\n",
    "    error = y_pred - y\n",
    "    mse = (error ** 2).mean()\n",
    "    return np.sqrt(mse)"
   ]
  },
  {
   "cell_type": "code",
   "execution_count": 455,
   "id": "ef7b2303",
   "metadata": {},
   "outputs": [],
   "source": [
    "#Q3"
   ]
  },
  {
   "cell_type": "code",
   "execution_count": 456,
   "id": "f4dd6650",
   "metadata": {},
   "outputs": [],
   "source": [
    "# fillna total_bedrooms with mean"
   ]
  },
  {
   "cell_type": "code",
   "execution_count": 457,
   "id": "60d200d7",
   "metadata": {},
   "outputs": [
    {
     "data": {
      "text/plain": [
       "542.552956325786"
      ]
     },
     "execution_count": 457,
     "metadata": {},
     "output_type": "execute_result"
    }
   ],
   "source": [
    "df_train['total_bedrooms'] = df_train['total_bedrooms'].fillna(df_train['total_bedrooms'].mean())\n",
    "df_train['total_bedrooms'].mean()"
   ]
  },
  {
   "cell_type": "code",
   "execution_count": 458,
   "id": "1602d044",
   "metadata": {},
   "outputs": [
    {
     "data": {
      "text/plain": [
       "(-9.886133213920456,\n",
       " array([-2.68652914e-01, -2.57026361e-01,  1.79880767e-03, -3.87631029e-05,\n",
       "         3.78806885e-04, -1.49641599e-04,  3.25344392e-04,  1.81951358e-01]))"
      ]
     },
     "execution_count": 458,
     "metadata": {},
     "output_type": "execute_result"
    }
   ],
   "source": [
    "w_0, w = train_linear_regression(df_train, y_train)\n",
    "w_0, w"
   ]
  },
  {
   "cell_type": "code",
   "execution_count": 459,
   "id": "f39af145",
   "metadata": {},
   "outputs": [],
   "source": [
    "y_pred = w_0 + df_train.dot(w)"
   ]
  },
  {
   "cell_type": "code",
   "execution_count": 460,
   "id": "ddd98cc4",
   "metadata": {},
   "outputs": [
    {
     "name": "stdout",
     "output_type": "stream",
     "text": [
      "0.34003008222642606\n"
     ]
    },
    {
     "data": {
      "text/plain": [
       "0.34"
      ]
     },
     "execution_count": 460,
     "metadata": {},
     "output_type": "execute_result"
    }
   ],
   "source": [
    "print(rmse(y_train, y_pred))\n",
    "round(rmse(y_train, y_pred),2)"
   ]
  },
  {
   "cell_type": "code",
   "execution_count": 461,
   "id": "2b817ac0",
   "metadata": {},
   "outputs": [],
   "source": [
    "# fillna total_bedrooms with 0"
   ]
  },
  {
   "cell_type": "code",
   "execution_count": 462,
   "id": "db9fa68d",
   "metadata": {},
   "outputs": [],
   "source": [
    "# df shuffle / log\n",
    "df_train = df_shuffled.iloc[:n_train].copy()\n",
    "df_val = df_shuffled.iloc[n_train:n_train+n_val].copy()\n",
    "df_test = df_shuffled.iloc[n_train+n_val:].copy()\n",
    "\n",
    "y_train_orig = df_train.median_house_value.values\n",
    "y_val_orig = df_val.median_house_value.values\n",
    "y_test_orig = df_test.median_house_value.values\n",
    "\n",
    "y_train = np.log1p(df_train.median_house_value.values)\n",
    "y_val = np.log1p(df_val.median_house_value.values)\n",
    "y_test = np.log1p(df_test.median_house_value.values)\n",
    "\n",
    "del df_train['median_house_value']\n",
    "del df_val['median_house_value']\n",
    "del df_test['median_house_value']"
   ]
  },
  {
   "cell_type": "code",
   "execution_count": 463,
   "id": "cce51b40",
   "metadata": {},
   "outputs": [
    {
     "data": {
      "text/plain": [
       "537.1349197917773"
      ]
     },
     "execution_count": 463,
     "metadata": {},
     "output_type": "execute_result"
    }
   ],
   "source": [
    "df_train['total_bedrooms'] = df_train['total_bedrooms'].fillna(0)\n",
    "df_train['total_bedrooms'].mean()"
   ]
  },
  {
   "cell_type": "code",
   "execution_count": 464,
   "id": "e8203e17",
   "metadata": {},
   "outputs": [
    {
     "data": {
      "text/plain": [
       "(-9.763249476147378,\n",
       " array([-2.68233309e-01, -2.55938802e-01,  1.77710730e-03, -3.38393956e-05,\n",
       "         2.93766352e-04, -1.52190447e-04,  3.96908643e-04,  1.80600946e-01]))"
      ]
     },
     "execution_count": 464,
     "metadata": {},
     "output_type": "execute_result"
    }
   ],
   "source": [
    "w_0, w  = train_linear_regression(df_train, y_train)\n",
    "w_0, w  "
   ]
  },
  {
   "cell_type": "code",
   "execution_count": 465,
   "id": "30401841",
   "metadata": {},
   "outputs": [],
   "source": [
    "y_pred = w_0 + df_train.dot(w)"
   ]
  },
  {
   "cell_type": "code",
   "execution_count": 466,
   "id": "2de71adf",
   "metadata": {
    "scrolled": true
   },
   "outputs": [
    {
     "name": "stdout",
     "output_type": "stream",
     "text": [
      "0.3402719715829534\n"
     ]
    },
    {
     "data": {
      "text/plain": [
       "0.34"
      ]
     },
     "execution_count": 466,
     "metadata": {},
     "output_type": "execute_result"
    }
   ],
   "source": [
    "print(rmse(y_train, y_pred))\n",
    "round(rmse(y_train, y_pred),2)"
   ]
  },
  {
   "cell_type": "code",
   "execution_count": 467,
   "id": "59c83b2c",
   "metadata": {},
   "outputs": [],
   "source": [
    "#Q4"
   ]
  },
  {
   "cell_type": "code",
   "execution_count": 468,
   "id": "84b3677b",
   "metadata": {},
   "outputs": [],
   "source": [
    "def train_linear_regression_reg(X, y, r=0.0):\n",
    "    ones = np.ones(X.shape[0])\n",
    "    X = np.column_stack([ones, X])\n",
    "\n",
    "    XTX = X.T.dot(X)\n",
    "    reg = r * np.eye(XTX.shape[0])\n",
    "    XTX = XTX + reg\n",
    "\n",
    "    XTX_inv = np.linalg.inv(XTX)\n",
    "    w = XTX_inv.dot(X.T).dot(y)\n",
    "    \n",
    "    return w[0], w[1:] "
   ]
  },
  {
   "cell_type": "code",
   "execution_count": 469,
   "id": "af9878ef",
   "metadata": {},
   "outputs": [],
   "source": [
    "df_val = df_val.fillna(0)"
   ]
  },
  {
   "cell_type": "code",
   "execution_count": 584,
   "id": "9377b66c",
   "metadata": {},
   "outputs": [
    {
     "name": "stdout",
     "output_type": "stream",
     "text": [
      "0\t -9.96462212446717\t -0.27\t-0.26\t0.00\t-0.00\t0.00\t-0.00\t0.00\t0.18\t\n",
      "1e-06\t -9.964601098194196\t -0.27\t-0.26\t0.00\t-0.00\t0.00\t-0.00\t0.00\t0.18\t\n",
      "0.0001\t -9.96251994890426\t -0.27\t-0.26\t0.00\t-0.00\t0.00\t-0.00\t0.00\t0.18\t\n",
      "0.001\t -9.943640198459805\t -0.27\t-0.26\t0.00\t-0.00\t0.00\t-0.00\t0.00\t0.18\t\n",
      "0.01\t -9.75870401890975\t -0.27\t-0.26\t0.00\t-0.00\t0.00\t-0.00\t0.00\t0.18\t\n",
      "0.1\t -8.228278214742787\t -0.25\t-0.24\t0.00\t-0.00\t0.00\t-0.00\t0.00\t0.18\t\n",
      "1\t -3.2026155613917133\t -0.21\t-0.18\t0.00\t-0.00\t0.00\t-0.00\t0.00\t0.19\t\n",
      "5\t -0.8602474789137535\t -0.19\t-0.16\t0.00\t-0.00\t0.00\t-0.00\t0.00\t0.19\t\n",
      "10\t -0.44818450925630904\t -0.19\t-0.15\t0.00\t-0.00\t0.00\t-0.00\t0.00\t0.19\t\n"
     ]
    }
   ],
   "source": [
    "for r in [0, 0.000001, 0.0001, 0.001, 0.01, 0.1, 1, 5, 10]:\n",
    "    w_0, w = train_linear_regression_reg(df_train, y_train, r=r)\n",
    "    print(f'{r}\\t' , end=' ')\n",
    "    print(f'{w_0}\\t' , end=' ')\n",
    "    for i in range(len(w)):\n",
    "        print('%.2f\\t' % w[i], end='')\n",
    "    print('')"
   ]
  },
  {
   "cell_type": "code",
   "execution_count": 585,
   "id": "d0280902",
   "metadata": {},
   "outputs": [
    {
     "name": "stdout",
     "output_type": "stream",
     "text": [
      "0\t -9.96462212446717\t 0.3341558266504128\t 0.33\n",
      "1e-06\t -9.964601098194196\t 0.3341558238021304\t 0.33\n",
      "0.0001\t -9.96251994890426\t 0.3341555422437675\t 0.33\n",
      "0.001\t -9.943640198459805\t 0.3341530188110924\t 0.33\n",
      "0.01\t -9.75870401890975\t 0.3341312360907677\t 0.33\n",
      "0.1\t -8.228278214742787\t 0.3341554915440752\t 0.33\n",
      "1\t -3.2026155613917133\t 0.33679181130742825\t 0.34\n",
      "5\t -0.8602474789137535\t 0.33934282802285604\t 0.34\n",
      "10\t -0.44818450925630904\t 0.33987999985517525\t 0.34\n"
     ]
    }
   ],
   "source": [
    "for r in [0, 0.000001, 0.0001, 0.001, 0.01, 0.1, 1, 5, 10]:\n",
    "    w_0, w = train_linear_regression_reg(df_train, y_train, r=r)\n",
    "    y_pred = w_0 + df_val.dot(w)\n",
    "    print(f'{r}\\t' , end=' ')\n",
    "    print(f'{w_0}\\t', end=' ')\n",
    "    print(f'{rmse(y_val, y_pred)}\\t', end=' ')\n",
    "    print(round(rmse(y_val, y_pred),2), end='')\n",
    "    print('')\n",
    "    "
   ]
  },
  {
   "cell_type": "code",
   "execution_count": null,
   "id": "24b73e53",
   "metadata": {},
   "outputs": [],
   "source": [
    "#Q5"
   ]
  },
  {
   "cell_type": "code",
   "execution_count": null,
   "id": "227b63a4",
   "metadata": {},
   "outputs": [],
   "source": [
    "# seed values [0, 1, 2, 3, 4, 5, 6, 7, 8, 9]"
   ]
  },
  {
   "cell_type": "code",
   "execution_count": 550,
   "id": "2dbe6922",
   "metadata": {},
   "outputs": [
    {
     "name": "stdout",
     "output_type": "stream",
     "text": [
      " seed : 0\t -0.4404594909838613\t 0.34532166935546776\t          0.35\n",
      " seed : 1\t -0.4172675490674188\t 0.34573068012389147\t          0.35\n",
      " seed : 2\t -0.440328658884645\t 0.34665239692547123\t          0.35\n",
      " seed : 3\t -0.4632215470934754\t 0.3386232228605908\t          0.34\n",
      " seed : 4\t -0.42136600710353733\t 0.34812874963855595\t          0.35\n",
      " seed : 5\t -0.45544792575061416\t 0.34821106941881247\t          0.35\n",
      " seed : 6\t -0.4527556990397761\t 0.34461855579889594\t          0.34\n",
      " seed : 7\t -0.4686860247214996\t 0.35216297246637934\t          0.35\n",
      " seed : 8\t -0.43682737655311155\t 0.35902923646700186\t          0.36\n",
      " seed : 9\t -0.44818450925630904\t 0.33987999985517525\t          0.34\n",
      "\n",
      "std all scores :  0.006\n"
     ]
    }
   ],
   "source": [
    "std = []\n",
    "for s in [0, 1, 2, 3, 4, 5, 6, 7, 8, 9]:\n",
    "    np.random.seed(s)\n",
    "    \n",
    "    n_val = int(0.2 * n)\n",
    "    n_test = int(0.2 * n)\n",
    "    n_train = n - (n_val + n_test)\n",
    "    \n",
    "    idx = np.arange(n)\n",
    "    np.random.shuffle(idx)\n",
    "    \n",
    "    df_shuffled = df.iloc[idx].copy().fillna(0)\n",
    "   \n",
    "    # df shuffle / log\n",
    "    df_train = df_shuffled.iloc[:n_train].copy()\n",
    "    df_val = df_shuffled.iloc[n_train:n_train+n_val].copy()\n",
    "    df_test = df_shuffled.iloc[n_train+n_val:].copy()\n",
    "    \n",
    "    y_train_orig = df_train.median_house_value.values\n",
    "    y_val_orig = df_val.median_house_value.values\n",
    "    y_test_orig = df_test.median_house_value.values\n",
    "    \n",
    "    y_train = np.log1p(df_train.median_house_value.values)\n",
    "    y_val = np.log1p(df_val.median_house_value.values)\n",
    "    y_test = np.log1p(df_test.median_house_value.values)\n",
    "    \n",
    "    del df_train['median_house_value']\n",
    "    del df_val['median_house_value']\n",
    "    del df_test['median_house_value']\n",
    "    \n",
    "    w_0, w = train_linear_regression_reg(df_train, y_train, r=r)\n",
    "    y_pred = w_0 + df_val.dot(w)\n",
    "    print(f' seed : {s}\\t' , end=' ')\n",
    "    print(f'{w_0}\\t', end=' ')\n",
    "    print(f'{rmse(y_val, y_pred)}\\t', end='          ')\n",
    "    print(round(rmse(y_val, y_pred),2), end='')\n",
    "    print('')\n",
    "    std.append(rmse(y_val, y_pred))\n",
    "print('')\n",
    "print('std all scores : ', round(np.std(std), 3))"
   ]
  },
  {
   "cell_type": "code",
   "execution_count": null,
   "id": "dc21eefe",
   "metadata": {},
   "outputs": [],
   "source": [
    "#Q6"
   ]
  },
  {
   "cell_type": "code",
   "execution_count": 590,
   "id": "faf680fb",
   "metadata": {},
   "outputs": [
    {
     "name": "stdout",
     "output_type": "stream",
     "text": [
      " seed : 9\t -9.724839217114782\t 0.3338959865238327\t          0.33"
     ]
    }
   ],
   "source": [
    "np.random.seed(9)\n",
    "\n",
    "n_val = int(0.2 * n)\n",
    "n_test = int(0.2 * n)\n",
    "n_train = n - (n_val + n_test)\n",
    "\n",
    "idx = np.arange(n)\n",
    "np.random.shuffle(idx)\n",
    "\n",
    "df_shuffled = df.iloc[idx].copy().fillna(0)\n",
    "\n",
    "# df shuffle / log\n",
    "df_train = df_shuffled.iloc[:n_train].copy()\n",
    "df_val = df_shuffled.iloc[n_train:n_train+n_val].copy()\n",
    "df_test = df_shuffled.iloc[n_train+n_val:].copy()\n",
    "\n",
    "y_train_orig = df_train.median_house_value.values\n",
    "y_val_orig = df_val.median_house_value.values\n",
    "y_test_orig = df_test.median_house_value.values\n",
    "\n",
    "y_train = np.log1p(df_train.median_house_value.values)\n",
    "y_val = np.log1p(df_val.median_house_value.values)\n",
    "y_test = np.log1p(df_test.median_house_value.values)\n",
    "\n",
    "del df_train['median_house_value']\n",
    "del df_val['median_house_value']\n",
    "del df_test['median_house_value']\n",
    "\n",
    "\n",
    "df_combine_x = pd.concat([df_train,df_val], axis=0)\n",
    "df_combine_y = np.concatenate((y_train, y_val))\n",
    "\n",
    "w_0, w = train_linear_regression_reg(df_combine_x, df_combine_y, r=0.001)\n",
    "y_pred = w_0 + df_val.dot(w)\n",
    "print(f' seed : {s}\\t' , end=' ')\n",
    "print(f'{w_0}\\t', end=' ')\n",
    "print(f'{rmse(y_val, y_pred)}\\t', end='          ')\n",
    "print(round(rmse(y_val, y_pred),2), end='')\n",
    "std.append(rmse(y_val, y_pred))"
   ]
  }
 ],
 "metadata": {
  "kernelspec": {
   "display_name": "Python 3 (ipykernel)",
   "language": "python",
   "name": "python3"
  },
  "language_info": {
   "codemirror_mode": {
    "name": "ipython",
    "version": 3
   },
   "file_extension": ".py",
   "mimetype": "text/x-python",
   "name": "python",
   "nbconvert_exporter": "python",
   "pygments_lexer": "ipython3",
   "version": "3.11.4"
  }
 },
 "nbformat": 4,
 "nbformat_minor": 5
}
