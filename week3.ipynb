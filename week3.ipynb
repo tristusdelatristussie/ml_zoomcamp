{
 "cells": [
  {
   "cell_type": "code",
   "execution_count": 410,
   "id": "1937c9c0",
   "metadata": {},
   "outputs": [],
   "source": [
    "import pandas as pd\n",
    "import numpy as np\n",
    "\n",
    "import seaborn as sns\n",
    "from matplotlib import pyplot as plt\n",
    "%matplotlib inline"
   ]
  },
  {
   "cell_type": "code",
   "execution_count": 411,
   "id": "cf2bafa3",
   "metadata": {},
   "outputs": [
    {
     "data": {
      "text/plain": [
       "'1.5.3'"
      ]
     },
     "execution_count": 411,
     "metadata": {},
     "output_type": "execute_result"
    }
   ],
   "source": [
    "pd.__version__"
   ]
  },
  {
   "cell_type": "code",
   "execution_count": 412,
   "id": "d84e9770",
   "metadata": {},
   "outputs": [],
   "source": [
    "car_price = pd.read_csv(r'C:/Users/pc/Documents/car_price.csv')"
   ]
  },
  {
   "cell_type": "code",
   "execution_count": 413,
   "id": "d8c4e8ab",
   "metadata": {},
   "outputs": [
    {
     "data": {
      "text/plain": [
       "(11914, 16)"
      ]
     },
     "execution_count": 413,
     "metadata": {},
     "output_type": "execute_result"
    }
   ],
   "source": [
    "car_price.shape"
   ]
  },
  {
   "cell_type": "code",
   "execution_count": 414,
   "id": "168b2fbf",
   "metadata": {},
   "outputs": [
    {
     "data": {
      "text/html": [
       "<div>\n",
       "<style scoped>\n",
       "    .dataframe tbody tr th:only-of-type {\n",
       "        vertical-align: middle;\n",
       "    }\n",
       "\n",
       "    .dataframe tbody tr th {\n",
       "        vertical-align: top;\n",
       "    }\n",
       "\n",
       "    .dataframe thead th {\n",
       "        text-align: right;\n",
       "    }\n",
       "</style>\n",
       "<table border=\"1\" class=\"dataframe\">\n",
       "  <thead>\n",
       "    <tr style=\"text-align: right;\">\n",
       "      <th></th>\n",
       "      <th>Make</th>\n",
       "      <th>Model</th>\n",
       "      <th>Year</th>\n",
       "      <th>Engine Fuel Type</th>\n",
       "      <th>Engine HP</th>\n",
       "      <th>Engine Cylinders</th>\n",
       "      <th>Transmission Type</th>\n",
       "      <th>Driven_Wheels</th>\n",
       "      <th>Number of Doors</th>\n",
       "      <th>Market Category</th>\n",
       "      <th>Vehicle Size</th>\n",
       "      <th>Vehicle Style</th>\n",
       "      <th>highway MPG</th>\n",
       "      <th>city mpg</th>\n",
       "      <th>Popularity</th>\n",
       "      <th>MSRP</th>\n",
       "    </tr>\n",
       "  </thead>\n",
       "  <tbody>\n",
       "    <tr>\n",
       "      <th>count</th>\n",
       "      <td>11914</td>\n",
       "      <td>11914</td>\n",
       "      <td>11914.000000</td>\n",
       "      <td>11911</td>\n",
       "      <td>11845.00000</td>\n",
       "      <td>11884.000000</td>\n",
       "      <td>11914</td>\n",
       "      <td>11914</td>\n",
       "      <td>11908.000000</td>\n",
       "      <td>8172</td>\n",
       "      <td>11914</td>\n",
       "      <td>11914</td>\n",
       "      <td>11914.000000</td>\n",
       "      <td>11914.000000</td>\n",
       "      <td>11914.000000</td>\n",
       "      <td>1.191400e+04</td>\n",
       "    </tr>\n",
       "    <tr>\n",
       "      <th>unique</th>\n",
       "      <td>48</td>\n",
       "      <td>915</td>\n",
       "      <td>NaN</td>\n",
       "      <td>10</td>\n",
       "      <td>NaN</td>\n",
       "      <td>NaN</td>\n",
       "      <td>5</td>\n",
       "      <td>4</td>\n",
       "      <td>NaN</td>\n",
       "      <td>71</td>\n",
       "      <td>3</td>\n",
       "      <td>16</td>\n",
       "      <td>NaN</td>\n",
       "      <td>NaN</td>\n",
       "      <td>NaN</td>\n",
       "      <td>NaN</td>\n",
       "    </tr>\n",
       "    <tr>\n",
       "      <th>top</th>\n",
       "      <td>Chevrolet</td>\n",
       "      <td>Silverado 1500</td>\n",
       "      <td>NaN</td>\n",
       "      <td>regular unleaded</td>\n",
       "      <td>NaN</td>\n",
       "      <td>NaN</td>\n",
       "      <td>AUTOMATIC</td>\n",
       "      <td>front wheel drive</td>\n",
       "      <td>NaN</td>\n",
       "      <td>Crossover</td>\n",
       "      <td>Compact</td>\n",
       "      <td>Sedan</td>\n",
       "      <td>NaN</td>\n",
       "      <td>NaN</td>\n",
       "      <td>NaN</td>\n",
       "      <td>NaN</td>\n",
       "    </tr>\n",
       "    <tr>\n",
       "      <th>freq</th>\n",
       "      <td>1123</td>\n",
       "      <td>156</td>\n",
       "      <td>NaN</td>\n",
       "      <td>7172</td>\n",
       "      <td>NaN</td>\n",
       "      <td>NaN</td>\n",
       "      <td>8266</td>\n",
       "      <td>4787</td>\n",
       "      <td>NaN</td>\n",
       "      <td>1110</td>\n",
       "      <td>4764</td>\n",
       "      <td>3048</td>\n",
       "      <td>NaN</td>\n",
       "      <td>NaN</td>\n",
       "      <td>NaN</td>\n",
       "      <td>NaN</td>\n",
       "    </tr>\n",
       "    <tr>\n",
       "      <th>mean</th>\n",
       "      <td>NaN</td>\n",
       "      <td>NaN</td>\n",
       "      <td>2010.384338</td>\n",
       "      <td>NaN</td>\n",
       "      <td>249.38607</td>\n",
       "      <td>5.628829</td>\n",
       "      <td>NaN</td>\n",
       "      <td>NaN</td>\n",
       "      <td>3.436093</td>\n",
       "      <td>NaN</td>\n",
       "      <td>NaN</td>\n",
       "      <td>NaN</td>\n",
       "      <td>26.637485</td>\n",
       "      <td>19.733255</td>\n",
       "      <td>1554.911197</td>\n",
       "      <td>4.059474e+04</td>\n",
       "    </tr>\n",
       "    <tr>\n",
       "      <th>std</th>\n",
       "      <td>NaN</td>\n",
       "      <td>NaN</td>\n",
       "      <td>7.579740</td>\n",
       "      <td>NaN</td>\n",
       "      <td>109.19187</td>\n",
       "      <td>1.780559</td>\n",
       "      <td>NaN</td>\n",
       "      <td>NaN</td>\n",
       "      <td>0.881315</td>\n",
       "      <td>NaN</td>\n",
       "      <td>NaN</td>\n",
       "      <td>NaN</td>\n",
       "      <td>8.863001</td>\n",
       "      <td>8.987798</td>\n",
       "      <td>1441.855347</td>\n",
       "      <td>6.010910e+04</td>\n",
       "    </tr>\n",
       "    <tr>\n",
       "      <th>min</th>\n",
       "      <td>NaN</td>\n",
       "      <td>NaN</td>\n",
       "      <td>1990.000000</td>\n",
       "      <td>NaN</td>\n",
       "      <td>55.00000</td>\n",
       "      <td>0.000000</td>\n",
       "      <td>NaN</td>\n",
       "      <td>NaN</td>\n",
       "      <td>2.000000</td>\n",
       "      <td>NaN</td>\n",
       "      <td>NaN</td>\n",
       "      <td>NaN</td>\n",
       "      <td>12.000000</td>\n",
       "      <td>7.000000</td>\n",
       "      <td>2.000000</td>\n",
       "      <td>2.000000e+03</td>\n",
       "    </tr>\n",
       "    <tr>\n",
       "      <th>25%</th>\n",
       "      <td>NaN</td>\n",
       "      <td>NaN</td>\n",
       "      <td>2007.000000</td>\n",
       "      <td>NaN</td>\n",
       "      <td>170.00000</td>\n",
       "      <td>4.000000</td>\n",
       "      <td>NaN</td>\n",
       "      <td>NaN</td>\n",
       "      <td>2.000000</td>\n",
       "      <td>NaN</td>\n",
       "      <td>NaN</td>\n",
       "      <td>NaN</td>\n",
       "      <td>22.000000</td>\n",
       "      <td>16.000000</td>\n",
       "      <td>549.000000</td>\n",
       "      <td>2.100000e+04</td>\n",
       "    </tr>\n",
       "    <tr>\n",
       "      <th>50%</th>\n",
       "      <td>NaN</td>\n",
       "      <td>NaN</td>\n",
       "      <td>2015.000000</td>\n",
       "      <td>NaN</td>\n",
       "      <td>227.00000</td>\n",
       "      <td>6.000000</td>\n",
       "      <td>NaN</td>\n",
       "      <td>NaN</td>\n",
       "      <td>4.000000</td>\n",
       "      <td>NaN</td>\n",
       "      <td>NaN</td>\n",
       "      <td>NaN</td>\n",
       "      <td>26.000000</td>\n",
       "      <td>18.000000</td>\n",
       "      <td>1385.000000</td>\n",
       "      <td>2.999500e+04</td>\n",
       "    </tr>\n",
       "    <tr>\n",
       "      <th>75%</th>\n",
       "      <td>NaN</td>\n",
       "      <td>NaN</td>\n",
       "      <td>2016.000000</td>\n",
       "      <td>NaN</td>\n",
       "      <td>300.00000</td>\n",
       "      <td>6.000000</td>\n",
       "      <td>NaN</td>\n",
       "      <td>NaN</td>\n",
       "      <td>4.000000</td>\n",
       "      <td>NaN</td>\n",
       "      <td>NaN</td>\n",
       "      <td>NaN</td>\n",
       "      <td>30.000000</td>\n",
       "      <td>22.000000</td>\n",
       "      <td>2009.000000</td>\n",
       "      <td>4.223125e+04</td>\n",
       "    </tr>\n",
       "    <tr>\n",
       "      <th>max</th>\n",
       "      <td>NaN</td>\n",
       "      <td>NaN</td>\n",
       "      <td>2017.000000</td>\n",
       "      <td>NaN</td>\n",
       "      <td>1001.00000</td>\n",
       "      <td>16.000000</td>\n",
       "      <td>NaN</td>\n",
       "      <td>NaN</td>\n",
       "      <td>4.000000</td>\n",
       "      <td>NaN</td>\n",
       "      <td>NaN</td>\n",
       "      <td>NaN</td>\n",
       "      <td>354.000000</td>\n",
       "      <td>137.000000</td>\n",
       "      <td>5657.000000</td>\n",
       "      <td>2.065902e+06</td>\n",
       "    </tr>\n",
       "  </tbody>\n",
       "</table>\n",
       "</div>"
      ],
      "text/plain": [
       "             Make           Model          Year  Engine Fuel Type  \\\n",
       "count       11914           11914  11914.000000             11911   \n",
       "unique         48             915           NaN                10   \n",
       "top     Chevrolet  Silverado 1500           NaN  regular unleaded   \n",
       "freq         1123             156           NaN              7172   \n",
       "mean          NaN             NaN   2010.384338               NaN   \n",
       "std           NaN             NaN      7.579740               NaN   \n",
       "min           NaN             NaN   1990.000000               NaN   \n",
       "25%           NaN             NaN   2007.000000               NaN   \n",
       "50%           NaN             NaN   2015.000000               NaN   \n",
       "75%           NaN             NaN   2016.000000               NaN   \n",
       "max           NaN             NaN   2017.000000               NaN   \n",
       "\n",
       "          Engine HP  Engine Cylinders Transmission Type      Driven_Wheels  \\\n",
       "count   11845.00000      11884.000000             11914              11914   \n",
       "unique          NaN               NaN                 5                  4   \n",
       "top             NaN               NaN         AUTOMATIC  front wheel drive   \n",
       "freq            NaN               NaN              8266               4787   \n",
       "mean      249.38607          5.628829               NaN                NaN   \n",
       "std       109.19187          1.780559               NaN                NaN   \n",
       "min        55.00000          0.000000               NaN                NaN   \n",
       "25%       170.00000          4.000000               NaN                NaN   \n",
       "50%       227.00000          6.000000               NaN                NaN   \n",
       "75%       300.00000          6.000000               NaN                NaN   \n",
       "max      1001.00000         16.000000               NaN                NaN   \n",
       "\n",
       "        Number of Doors Market Category Vehicle Size Vehicle Style  \\\n",
       "count      11908.000000            8172        11914         11914   \n",
       "unique              NaN              71            3            16   \n",
       "top                 NaN       Crossover      Compact         Sedan   \n",
       "freq                NaN            1110         4764          3048   \n",
       "mean           3.436093             NaN          NaN           NaN   \n",
       "std            0.881315             NaN          NaN           NaN   \n",
       "min            2.000000             NaN          NaN           NaN   \n",
       "25%            2.000000             NaN          NaN           NaN   \n",
       "50%            4.000000             NaN          NaN           NaN   \n",
       "75%            4.000000             NaN          NaN           NaN   \n",
       "max            4.000000             NaN          NaN           NaN   \n",
       "\n",
       "         highway MPG      city mpg    Popularity          MSRP  \n",
       "count   11914.000000  11914.000000  11914.000000  1.191400e+04  \n",
       "unique           NaN           NaN           NaN           NaN  \n",
       "top              NaN           NaN           NaN           NaN  \n",
       "freq             NaN           NaN           NaN           NaN  \n",
       "mean       26.637485     19.733255   1554.911197  4.059474e+04  \n",
       "std         8.863001      8.987798   1441.855347  6.010910e+04  \n",
       "min        12.000000      7.000000      2.000000  2.000000e+03  \n",
       "25%        22.000000     16.000000    549.000000  2.100000e+04  \n",
       "50%        26.000000     18.000000   1385.000000  2.999500e+04  \n",
       "75%        30.000000     22.000000   2009.000000  4.223125e+04  \n",
       "max       354.000000    137.000000   5657.000000  2.065902e+06  "
      ]
     },
     "execution_count": 414,
     "metadata": {},
     "output_type": "execute_result"
    }
   ],
   "source": [
    "car_price.describe(include='all')"
   ]
  },
  {
   "cell_type": "code",
   "execution_count": 415,
   "id": "c3b9a47e",
   "metadata": {},
   "outputs": [],
   "source": [
    "features = ['MSRP',\n",
    "            'Make',\n",
    "            'Model',\n",
    "            'Year',\n",
    "            'Engine HP',\n",
    "            'Engine Cylinders',\n",
    "            'Transmission Type',\n",
    "            'Vehicle Style',\n",
    "            'highway MPG',\n",
    "            'city mpg']"
   ]
  },
  {
   "cell_type": "code",
   "execution_count": 416,
   "id": "7e9511ee",
   "metadata": {},
   "outputs": [],
   "source": [
    "car_price[features] = car_price[features].astype('string')\n",
    "for f in features:\n",
    "    car_price[f] = car_price[f].str.replace(' ', '_').str.lower()"
   ]
  },
  {
   "cell_type": "code",
   "execution_count": 417,
   "id": "bffbb2f7",
   "metadata": {},
   "outputs": [],
   "source": [
    "car_price_f = car_price[features]"
   ]
  },
  {
   "cell_type": "code",
   "execution_count": 418,
   "id": "80871b58",
   "metadata": {},
   "outputs": [],
   "source": [
    "nulls_rows = car_price_f.isnull().any(axis=1)"
   ]
  },
  {
   "cell_type": "code",
   "execution_count": 419,
   "id": "4c886620",
   "metadata": {},
   "outputs": [
    {
     "name": "stderr",
     "output_type": "stream",
     "text": [
      "C:\\Users\\pc\\AppData\\Local\\Temp\\ipykernel_17080\\2057292027.py:1: SettingWithCopyWarning: \n",
      "A value is trying to be set on a copy of a slice from a DataFrame.\n",
      "Try using .loc[row_indexer,col_indexer] = value instead\n",
      "\n",
      "See the caveats in the documentation: https://pandas.pydata.org/pandas-docs/stable/user_guide/indexing.html#returning-a-view-versus-a-copy\n",
      "  car_price_f[nulls_rows] = car_price_f[nulls_rows].fillna('0')\n"
     ]
    }
   ],
   "source": [
    "car_price_f[nulls_rows] = car_price_f[nulls_rows].fillna('0')"
   ]
  },
  {
   "cell_type": "code",
   "execution_count": 420,
   "id": "f852fb2f",
   "metadata": {},
   "outputs": [],
   "source": [
    "car_price_f = car_price_f.rename(str.lower, axis='columns').rename(columns={'msrp' : 'price'})"
   ]
  },
  {
   "cell_type": "code",
   "execution_count": 421,
   "id": "15ccd873",
   "metadata": {},
   "outputs": [],
   "source": [
    "#Q1"
   ]
  },
  {
   "cell_type": "code",
   "execution_count": 422,
   "id": "5def779e",
   "metadata": {},
   "outputs": [
    {
     "data": {
      "text/plain": [
       "automatic           8266\n",
       "manual              2935\n",
       "automated_manual     626\n",
       "direct_drive          68\n",
       "unknown               19\n",
       "Name: transmission type, dtype: Int64"
      ]
     },
     "execution_count": 422,
     "metadata": {},
     "output_type": "execute_result"
    }
   ],
   "source": [
    "car_price_f['transmission type'].value_counts()"
   ]
  },
  {
   "cell_type": "code",
   "execution_count": 423,
   "id": "3242f66f",
   "metadata": {},
   "outputs": [],
   "source": [
    "#automatic           "
   ]
  },
  {
   "cell_type": "code",
   "execution_count": 424,
   "id": "6c934bbc",
   "metadata": {},
   "outputs": [],
   "source": [
    "#Q2"
   ]
  },
  {
   "cell_type": "code",
   "execution_count": 425,
   "id": "d19841fb",
   "metadata": {},
   "outputs": [
    {
     "name": "stdout",
     "output_type": "stream",
     "text": [
      "<class 'pandas.core.frame.DataFrame'>\n",
      "RangeIndex: 11914 entries, 0 to 11913\n",
      "Data columns (total 10 columns):\n",
      " #   Column             Non-Null Count  Dtype \n",
      "---  ------             --------------  ----- \n",
      " 0   price              11914 non-null  string\n",
      " 1   make               11914 non-null  string\n",
      " 2   model              11914 non-null  string\n",
      " 3   year               11914 non-null  string\n",
      " 4   engine hp          11914 non-null  string\n",
      " 5   engine cylinders   11914 non-null  string\n",
      " 6   transmission type  11914 non-null  string\n",
      " 7   vehicle style      11914 non-null  string\n",
      " 8   highway mpg        11914 non-null  string\n",
      " 9   city mpg           11914 non-null  string\n",
      "dtypes: string(10)\n",
      "memory usage: 930.9 KB\n"
     ]
    }
   ],
   "source": [
    "car_price_f.info()"
   ]
  },
  {
   "cell_type": "code",
   "execution_count": 426,
   "id": "d56fb07c",
   "metadata": {},
   "outputs": [],
   "source": [
    "numerical_features = ['price', 'year', 'engine hp', 'engine cylinders','highway mpg', 'city mpg']"
   ]
  },
  {
   "cell_type": "code",
   "execution_count": 427,
   "id": "cf3cfad4",
   "metadata": {},
   "outputs": [],
   "source": [
    "car_price_f[numerical_features] = car_price_f[numerical_features].astype(float)"
   ]
  },
  {
   "cell_type": "code",
   "execution_count": 428,
   "id": "0d0be86c",
   "metadata": {},
   "outputs": [],
   "source": [
    "categorical_features = car_price_f.select_dtypes('string').astype('category').columns"
   ]
  },
  {
   "cell_type": "code",
   "execution_count": 429,
   "id": "00d7f922",
   "metadata": {},
   "outputs": [
    {
     "name": "stderr",
     "output_type": "stream",
     "text": [
      "C:\\Users\\pc\\AppData\\Local\\Temp\\ipykernel_17080\\815563676.py:1: FutureWarning: The default value of numeric_only in DataFrame.corr is deprecated. In a future version, it will default to False. Select only valid columns or specify the value of numeric_only to silence this warning.\n",
      "  sns.heatmap(car_price_f.corr(), cmap='coolwarm', annot=True)\n"
     ]
    },
    {
     "data": {
      "text/plain": [
       "<Axes: >"
      ]
     },
     "execution_count": 429,
     "metadata": {},
     "output_type": "execute_result"
    },
    {
     "data": {
      "image/png": "[encoded data removed]",
      "text/plain": [
       "<Figure size 640x480 with 2 Axes>"
      ]
     },
     "metadata": {},
     "output_type": "display_data"
    }
   ],
   "source": [
    "sns.heatmap(car_price_f.corr(), cmap='coolwarm', annot=True)"
   ]
  },
  {
   "cell_type": "code",
   "execution_count": 430,
   "id": "fb4998d8",
   "metadata": {},
   "outputs": [],
   "source": [
    "m = car_price_f.price.mean()\n",
    "\n",
    "car_price_f['above_average'] = (car_price_f['price'] >= m).astype(int)"
   ]
  },
  {
   "cell_type": "code",
   "execution_count": 431,
   "id": "e8d2a4e5",
   "metadata": {},
   "outputs": [],
   "source": [
    "# highway mpg and city mpg"
   ]
  },
  {
   "cell_type": "code",
   "execution_count": 432,
   "id": "d0508e84",
   "metadata": {},
   "outputs": [],
   "source": [
    "#Q3"
   ]
  },
  {
   "cell_type": "code",
   "execution_count": 433,
   "id": "72d269d9",
   "metadata": {
    "scrolled": false
   },
   "outputs": [
    {
     "name": "stdout",
     "output_type": "stream",
     "text": [
      " price \t : 0.5875697786262447\n",
      " make \t : 0.23773108100965473\n",
      " model \t : 0.4574691996326542\n",
      " year \t : 0.07339035085054221\n",
      " engine hp \t : 0.3616820149158955\n",
      " engine cylinders \t : 0.11456476603798421\n",
      " transmission type \t : 0.01995386887695643\n",
      " vehicle style \t : 0.08263330137961424\n",
      " highway mpg \t : 0.04298955749030491\n",
      " city mpg \t : 0.05818701779786887\n",
      " above_average \t : 0.5875697786262442\n"
     ]
    }
   ],
   "source": [
    "from sklearn.metrics import mutual_info_score\n",
    "def mscore(series):\n",
    "    return mutual_info_score(car_price_f['above_average'], car_price_f[series])\n",
    "\n",
    "for c in car_price_f.columns:\n",
    "    print(f' {c} \\t : { mscore(c) }')"
   ]
  },
  {
   "cell_type": "code",
   "execution_count": 436,
   "id": "82850fe4",
   "metadata": {},
   "outputs": [
    {
     "data": {
      "text/html": [
       "<div>\n",
       "<style scoped>\n",
       "    .dataframe tbody tr th:only-of-type {\n",
       "        vertical-align: middle;\n",
       "    }\n",
       "\n",
       "    .dataframe tbody tr th {\n",
       "        vertical-align: top;\n",
       "    }\n",
       "\n",
       "    .dataframe thead th {\n",
       "        text-align: right;\n",
       "    }\n",
       "</style>\n",
       "<table border=\"1\" class=\"dataframe\">\n",
       "  <thead>\n",
       "    <tr style=\"text-align: right;\">\n",
       "      <th></th>\n",
       "      <th>price</th>\n",
       "      <th>make</th>\n",
       "      <th>model</th>\n",
       "      <th>year</th>\n",
       "      <th>engine hp</th>\n",
       "      <th>engine cylinders</th>\n",
       "      <th>transmission type</th>\n",
       "      <th>vehicle style</th>\n",
       "      <th>highway mpg</th>\n",
       "      <th>city mpg</th>\n",
       "    </tr>\n",
       "  </thead>\n",
       "  <tbody>\n",
       "    <tr>\n",
       "      <th>0</th>\n",
       "      <td>46135.0</td>\n",
       "      <td>bmw</td>\n",
       "      <td>1_series_m</td>\n",
       "      <td>2011.0</td>\n",
       "      <td>335.0</td>\n",
       "      <td>6.0</td>\n",
       "      <td>manual</td>\n",
       "      <td>coupe</td>\n",
       "      <td>26.0</td>\n",
       "      <td>19.0</td>\n",
       "    </tr>\n",
       "    <tr>\n",
       "      <th>1</th>\n",
       "      <td>40650.0</td>\n",
       "      <td>bmw</td>\n",
       "      <td>1_series</td>\n",
       "      <td>2011.0</td>\n",
       "      <td>300.0</td>\n",
       "      <td>6.0</td>\n",
       "      <td>manual</td>\n",
       "      <td>convertible</td>\n",
       "      <td>28.0</td>\n",
       "      <td>19.0</td>\n",
       "    </tr>\n",
       "    <tr>\n",
       "      <th>2</th>\n",
       "      <td>36350.0</td>\n",
       "      <td>bmw</td>\n",
       "      <td>1_series</td>\n",
       "      <td>2011.0</td>\n",
       "      <td>300.0</td>\n",
       "      <td>6.0</td>\n",
       "      <td>manual</td>\n",
       "      <td>coupe</td>\n",
       "      <td>28.0</td>\n",
       "      <td>20.0</td>\n",
       "    </tr>\n",
       "    <tr>\n",
       "      <th>3</th>\n",
       "      <td>29450.0</td>\n",
       "      <td>bmw</td>\n",
       "      <td>1_series</td>\n",
       "      <td>2011.0</td>\n",
       "      <td>230.0</td>\n",
       "      <td>6.0</td>\n",
       "      <td>manual</td>\n",
       "      <td>coupe</td>\n",
       "      <td>28.0</td>\n",
       "      <td>18.0</td>\n",
       "    </tr>\n",
       "    <tr>\n",
       "      <th>4</th>\n",
       "      <td>34500.0</td>\n",
       "      <td>bmw</td>\n",
       "      <td>1_series</td>\n",
       "      <td>2011.0</td>\n",
       "      <td>230.0</td>\n",
       "      <td>6.0</td>\n",
       "      <td>manual</td>\n",
       "      <td>convertible</td>\n",
       "      <td>28.0</td>\n",
       "      <td>18.0</td>\n",
       "    </tr>\n",
       "    <tr>\n",
       "      <th>...</th>\n",
       "      <td>...</td>\n",
       "      <td>...</td>\n",
       "      <td>...</td>\n",
       "      <td>...</td>\n",
       "      <td>...</td>\n",
       "      <td>...</td>\n",
       "      <td>...</td>\n",
       "      <td>...</td>\n",
       "      <td>...</td>\n",
       "      <td>...</td>\n",
       "    </tr>\n",
       "    <tr>\n",
       "      <th>11909</th>\n",
       "      <td>46120.0</td>\n",
       "      <td>acura</td>\n",
       "      <td>zdx</td>\n",
       "      <td>2012.0</td>\n",
       "      <td>300.0</td>\n",
       "      <td>6.0</td>\n",
       "      <td>automatic</td>\n",
       "      <td>4dr_hatchback</td>\n",
       "      <td>23.0</td>\n",
       "      <td>16.0</td>\n",
       "    </tr>\n",
       "    <tr>\n",
       "      <th>11910</th>\n",
       "      <td>56670.0</td>\n",
       "      <td>acura</td>\n",
       "      <td>zdx</td>\n",
       "      <td>2012.0</td>\n",
       "      <td>300.0</td>\n",
       "      <td>6.0</td>\n",
       "      <td>automatic</td>\n",
       "      <td>4dr_hatchback</td>\n",
       "      <td>23.0</td>\n",
       "      <td>16.0</td>\n",
       "    </tr>\n",
       "    <tr>\n",
       "      <th>11911</th>\n",
       "      <td>50620.0</td>\n",
       "      <td>acura</td>\n",
       "      <td>zdx</td>\n",
       "      <td>2012.0</td>\n",
       "      <td>300.0</td>\n",
       "      <td>6.0</td>\n",
       "      <td>automatic</td>\n",
       "      <td>4dr_hatchback</td>\n",
       "      <td>23.0</td>\n",
       "      <td>16.0</td>\n",
       "    </tr>\n",
       "    <tr>\n",
       "      <th>11912</th>\n",
       "      <td>50920.0</td>\n",
       "      <td>acura</td>\n",
       "      <td>zdx</td>\n",
       "      <td>2013.0</td>\n",
       "      <td>300.0</td>\n",
       "      <td>6.0</td>\n",
       "      <td>automatic</td>\n",
       "      <td>4dr_hatchback</td>\n",
       "      <td>23.0</td>\n",
       "      <td>16.0</td>\n",
       "    </tr>\n",
       "    <tr>\n",
       "      <th>11913</th>\n",
       "      <td>28995.0</td>\n",
       "      <td>lincoln</td>\n",
       "      <td>zephyr</td>\n",
       "      <td>2006.0</td>\n",
       "      <td>221.0</td>\n",
       "      <td>6.0</td>\n",
       "      <td>automatic</td>\n",
       "      <td>sedan</td>\n",
       "      <td>26.0</td>\n",
       "      <td>17.0</td>\n",
       "    </tr>\n",
       "  </tbody>\n",
       "</table>\n",
       "<p>11914 rows × 10 columns</p>\n",
       "</div>"
      ],
      "text/plain": [
       "         price     make       model    year  engine hp  engine cylinders  \\\n",
       "0      46135.0      bmw  1_series_m  2011.0      335.0               6.0   \n",
       "1      40650.0      bmw    1_series  2011.0      300.0               6.0   \n",
       "2      36350.0      bmw    1_series  2011.0      300.0               6.0   \n",
       "3      29450.0      bmw    1_series  2011.0      230.0               6.0   \n",
       "4      34500.0      bmw    1_series  2011.0      230.0               6.0   \n",
       "...        ...      ...         ...     ...        ...               ...   \n",
       "11909  46120.0    acura         zdx  2012.0      300.0               6.0   \n",
       "11910  56670.0    acura         zdx  2012.0      300.0               6.0   \n",
       "11911  50620.0    acura         zdx  2012.0      300.0               6.0   \n",
       "11912  50920.0    acura         zdx  2013.0      300.0               6.0   \n",
       "11913  28995.0  lincoln      zephyr  2006.0      221.0               6.0   \n",
       "\n",
       "      transmission type  vehicle style  highway mpg  city mpg  \n",
       "0                manual          coupe         26.0      19.0  \n",
       "1                manual    convertible         28.0      19.0  \n",
       "2                manual          coupe         28.0      20.0  \n",
       "3                manual          coupe         28.0      18.0  \n",
       "4                manual    convertible         28.0      18.0  \n",
       "...                 ...            ...          ...       ...  \n",
       "11909         automatic  4dr_hatchback         23.0      16.0  \n",
       "11910         automatic  4dr_hatchback         23.0      16.0  \n",
       "11911         automatic  4dr_hatchback         23.0      16.0  \n",
       "11912         automatic  4dr_hatchback         23.0      16.0  \n",
       "11913         automatic          sedan         26.0      17.0  \n",
       "\n",
       "[11914 rows x 10 columns]"
      ]
     },
     "execution_count": 436,
     "metadata": {},
     "output_type": "execute_result"
    }
   ],
   "source": [
    "car_price_f.drop(columns='above_average')"
   ]
  },
  {
   "cell_type": "code",
   "execution_count": 437,
   "id": "d1007afa",
   "metadata": {},
   "outputs": [],
   "source": [
    "df_to_enc = car_price_f.drop(columns='above_average')"
   ]
  },
  {
   "cell_type": "code",
   "execution_count": 438,
   "id": "4c14625a",
   "metadata": {},
   "outputs": [],
   "source": [
    "from sklearn.feature_extraction import DictVectorizer\n",
    "dv = DictVectorizer(sparse=False)\n",
    "\n",
    "train_dict = df_to_enc.to_dict(orient='records')\n",
    "dic_enc_fit = dv.fit(train_dict)"
   ]
  },
  {
   "cell_type": "code",
   "execution_count": 439,
   "id": "ca880dd8",
   "metadata": {},
   "outputs": [],
   "source": [
    "dic_enc = dv.transform(train_dict)"
   ]
  },
  {
   "cell_type": "code",
   "execution_count": 440,
   "id": "a5828b9d",
   "metadata": {},
   "outputs": [],
   "source": [
    "df_enc = pd.DataFrame(dic_enc, columns=dic_enc_fit.get_feature_names_out())"
   ]
  },
  {
   "cell_type": "code",
   "execution_count": 441,
   "id": "8969ee6e",
   "metadata": {},
   "outputs": [],
   "source": [
    "from sklearn.model_selection import train_test_split\n",
    "\n",
    "X = df_enc.copy()\n",
    "y = car_price_f['above_average']\n",
    "\n",
    "X_train, X_temp, y_train, y_temp = train_test_split(X, y, test_size=0.4, train_size=0.6, random_state=42)\n",
    "\n",
    "X_val, X_test, y_val, y_test = train_test_split(X_temp, y_temp, test_size=0.5, random_state=42)\n",
    "\n",
    "df_full_train, tr = train_test_split(X ,  train_size=0.8, random_state=42)\n"
   ]
  },
  {
   "cell_type": "code",
   "execution_count": 327,
   "id": "341b7bb8",
   "metadata": {},
   "outputs": [],
   "source": [
    "#Q4"
   ]
  },
  {
   "cell_type": "code",
   "execution_count": 332,
   "id": "df8736ff",
   "metadata": {},
   "outputs": [],
   "source": [
    "from sklearn.preprocessing import OneHotEncoder\n",
    "\n",
    "def one_encode(df):\n",
    "    df = df.copy()\n",
    "    enc = OneHotEncoder()\n",
    "    df_enc = enc.fit_transform(df[categorical_features])\n",
    "    df_encoded = pd.DataFrame(df_enc.toarray(), columns=enc.get_feature_names_out(categorical_features))\n",
    "    df.reset_index(drop=True, inplace=True)\n",
    "    df_encoded_f = pd.concat([df[numerical_features], df_encoded], axis=1)\n",
    "    return df_encoded_f\n"
   ]
  },
  {
   "cell_type": "code",
   "execution_count": 393,
   "id": "a025e6b8",
   "metadata": {},
   "outputs": [
    {
     "data": {
      "text/html": [
       "<style>#sk-container-id-2 {color: black;}#sk-container-id-2 pre{padding: 0;}#sk-container-id-2 div.sk-toggleable {background-color: white;}#sk-container-id-2 label.sk-toggleable__label {cursor: pointer;display: block;width: 100%;margin-bottom: 0;padding: 0.3em;box-sizing: border-box;text-align: center;}#sk-container-id-2 label.sk-toggleable__label-arrow:before {content: \"▸\";float: left;margin-right: 0.25em;color: #696969;}#sk-container-id-2 label.sk-toggleable__label-arrow:hover:before {color: black;}#sk-container-id-2 div.sk-estimator:hover label.sk-toggleable__label-arrow:before {color: black;}#sk-container-id-2 div.sk-toggleable__content {max-height: 0;max-width: 0;overflow: hidden;text-align: left;background-color: #f0f8ff;}#sk-container-id-2 div.sk-toggleable__content pre {margin: 0.2em;color: black;border-radius: 0.25em;background-color: #f0f8ff;}#sk-container-id-2 input.sk-toggleable__control:checked~div.sk-toggleable__content {max-height: 200px;max-width: 100%;overflow: auto;}#sk-container-id-2 input.sk-toggleable__control:checked~label.sk-toggleable__label-arrow:before {content: \"▾\";}#sk-container-id-2 div.sk-estimator input.sk-toggleable__control:checked~label.sk-toggleable__label {background-color: #d4ebff;}#sk-container-id-2 div.sk-label input.sk-toggleable__control:checked~label.sk-toggleable__label {background-color: #d4ebff;}#sk-container-id-2 input.sk-hidden--visually {border: 0;clip: rect(1px 1px 1px 1px);clip: rect(1px, 1px, 1px, 1px);height: 1px;margin: -1px;overflow: hidden;padding: 0;position: absolute;width: 1px;}#sk-container-id-2 div.sk-estimator {font-family: monospace;background-color: #f0f8ff;border: 1px dotted black;border-radius: 0.25em;box-sizing: border-box;margin-bottom: 0.5em;}#sk-container-id-2 div.sk-estimator:hover {background-color: #d4ebff;}#sk-container-id-2 div.sk-parallel-item::after {content: \"\";width: 100%;border-bottom: 1px solid gray;flex-grow: 1;}#sk-container-id-2 div.sk-label:hover label.sk-toggleable__label {background-color: #d4ebff;}#sk-container-id-2 div.sk-serial::before {content: \"\";position: absolute;border-left: 1px solid gray;box-sizing: border-box;top: 0;bottom: 0;left: 50%;z-index: 0;}#sk-container-id-2 div.sk-serial {display: flex;flex-direction: column;align-items: center;background-color: white;padding-right: 0.2em;padding-left: 0.2em;position: relative;}#sk-container-id-2 div.sk-item {position: relative;z-index: 1;}#sk-container-id-2 div.sk-parallel {display: flex;align-items: stretch;justify-content: center;background-color: white;position: relative;}#sk-container-id-2 div.sk-item::before, #sk-container-id-2 div.sk-parallel-item::before {content: \"\";position: absolute;border-left: 1px solid gray;box-sizing: border-box;top: 0;bottom: 0;left: 50%;z-index: -1;}#sk-container-id-2 div.sk-parallel-item {display: flex;flex-direction: column;z-index: 1;position: relative;background-color: white;}#sk-container-id-2 div.sk-parallel-item:first-child::after {align-self: flex-end;width: 50%;}#sk-container-id-2 div.sk-parallel-item:last-child::after {align-self: flex-start;width: 50%;}#sk-container-id-2 div.sk-parallel-item:only-child::after {width: 0;}#sk-container-id-2 div.sk-dashed-wrapped {border: 1px dashed gray;margin: 0 0.4em 0.5em 0.4em;box-sizing: border-box;padding-bottom: 0.4em;background-color: white;}#sk-container-id-2 div.sk-label label {font-family: monospace;font-weight: bold;display: inline-block;line-height: 1.2em;}#sk-container-id-2 div.sk-label-container {text-align: center;}#sk-container-id-2 div.sk-container {/* jupyter's `normalize.less` sets `[hidden] { display: none; }` but bootstrap.min.css set `[hidden] { display: none !important; }` so we also need the `!important` here to be able to override the default hidden behavior on the sphinx rendered scikit-learn.org. See: https://github.com/scikit-learn/scikit-learn/issues/21755 */display: inline-block !important;position: relative;}#sk-container-id-2 div.sk-text-repr-fallback {display: none;}</style><div id=\"sk-container-id-2\" class=\"sk-top-container\"><div class=\"sk-text-repr-fallback\"><pre>LogisticRegression(C=10, max_iter=1000, random_state=42, solver=&#x27;liblinear&#x27;)</pre><b>In a Jupyter environment, please rerun this cell to show the HTML representation or trust the notebook. <br />On GitHub, the HTML representation is unable to render, please try loading this page with nbviewer.org.</b></div><div class=\"sk-container\" hidden><div class=\"sk-item\"><div class=\"sk-estimator sk-toggleable\"><input class=\"sk-toggleable__control sk-hidden--visually\" id=\"sk-estimator-id-2\" type=\"checkbox\" checked><label for=\"sk-estimator-id-2\" class=\"sk-toggleable__label sk-toggleable__label-arrow\">LogisticRegression</label><div class=\"sk-toggleable__content\"><pre>LogisticRegression(C=10, max_iter=1000, random_state=42, solver=&#x27;liblinear&#x27;)</pre></div></div></div></div></div>"
      ],
      "text/plain": [
       "LogisticRegression(C=10, max_iter=1000, random_state=42, solver='liblinear')"
      ]
     },
     "execution_count": 393,
     "metadata": {},
     "output_type": "execute_result"
    }
   ],
   "source": [
    "from sklearn.linear_model import LogisticRegression\n",
    "\n",
    "#encoded_train = one_encode(X_train)\n",
    "#encoded_val =  one_encode(X_val)\n",
    "#encoded_test = one_encode(X_test)\n",
    "\n",
    "model = LogisticRegression(solver='liblinear', C=10, max_iter=1000, random_state=42)\n",
    "\n",
    "model.fit(X_train, y_train)\n"
   ]
  },
  {
   "cell_type": "code",
   "execution_count": 394,
   "id": "8bc4f102",
   "metadata": {},
   "outputs": [],
   "source": [
    "y_pred = model.predict_proba(X_val)[:,1]"
   ]
  },
  {
   "cell_type": "code",
   "execution_count": 395,
   "id": "97848a46",
   "metadata": {},
   "outputs": [],
   "source": [
    "above_price = (y_pred >= 0.5)"
   ]
  },
  {
   "cell_type": "code",
   "execution_count": 396,
   "id": "f2a69566",
   "metadata": {},
   "outputs": [],
   "source": [
    "df_pred = pd.DataFrame()\n",
    "df_pred['proba'] = y_pred.round(8)\n",
    "df_pred['prediction'] = above_price.astype(int)\n",
    "df_pred['actual'] = y_val.values"
   ]
  },
  {
   "cell_type": "code",
   "execution_count": 397,
   "id": "7ee83133",
   "metadata": {},
   "outputs": [],
   "source": [
    "df_pred['correct'] = df_pred.prediction == df_pred.actual"
   ]
  },
  {
   "cell_type": "code",
   "execution_count": 398,
   "id": "40f1b8ac",
   "metadata": {},
   "outputs": [
    {
     "data": {
      "text/plain": [
       "0.9991607217792698"
      ]
     },
     "execution_count": 398,
     "metadata": {},
     "output_type": "execute_result"
    }
   ],
   "source": [
    "df_pred['correct'].mean()"
   ]
  },
  {
   "cell_type": "code",
   "execution_count": 399,
   "id": "a9e668c6",
   "metadata": {},
   "outputs": [],
   "source": [
    "#0.9991607217792698"
   ]
  },
  {
   "cell_type": "code",
   "execution_count": 400,
   "id": "b1626c57",
   "metadata": {},
   "outputs": [],
   "source": [
    "#Q5"
   ]
  },
  {
   "cell_type": "code",
   "execution_count": 401,
   "id": "ffa4cb9e",
   "metadata": {},
   "outputs": [],
   "source": [
    "def test_features():\n",
    "    res_dict = {}\n",
    "    for f in X_train.columns:\n",
    "        model.fit(X_train.loc[:, X_train.columns != f] , y_train)\n",
    "        y_pred = model.predict_proba(X_val)[:,1]\n",
    "        above_price = (y_pred >= 0.5)\n",
    "        df_pred = pd.DataFrame()\n",
    "        df_pred['proba'] = y_pred.round(8)\n",
    "        df_pred['prediction'] = above_price.astype(int)\n",
    "        df_pred['actual'] = y_val.values\n",
    "        df_pred['correct'] = df_pred.prediction == df_pred.actual\n",
    "        res = df_pred['correct'].mean()\n",
    "        res_dict.update({ f : res})\n",
    "    return res_dict"
   ]
  },
  {
   "cell_type": "code",
   "execution_count": 402,
   "id": "ee99d5f6",
   "metadata": {},
   "outputs": [],
   "source": [
    "res_dict = {}\n",
    "for f in X_train.columns:\n",
    "        model.fit(X_train.loc[:, X_train.columns != f] , y_train)\n",
    "        y_pred = model.predict_proba(X_val.loc[:, X_val.columns != f])[:,1]\n",
    "        above_price = (y_pred >= 0.5)\n",
    "        df_pred = pd.DataFrame()\n",
    "        df_pred['proba'] = y_pred.round(8)\n",
    "        df_pred['prediction'] = above_price.astype(int)\n",
    "        df_pred['actual'] = y_val.values\n",
    "        df_pred['correct'] = df_pred.prediction == df_pred.actual\n",
    "        res = df_pred['correct'].mean()\n",
    "        res_dict.update({ f : res})\n"
   ]
  },
  {
   "cell_type": "code",
   "execution_count": 403,
   "id": "59048a25",
   "metadata": {},
   "outputs": [
    {
     "data": {
      "text/plain": [
       "{'city mpg': 0.0008392782207301552,\n",
       " 'engine hp': 0.0012589173310952884,\n",
       " 'transmission type=automated_manual': 0.0008392782207301552,\n",
       " 'transmission type=automatic': 0.0008392782207301552,\n",
       " 'transmission type=direct_drive': 0.0008392782207301552,\n",
       " 'transmission type=manual': 0.0008392782207301552,\n",
       " 'transmission type=unknown': 0.0008392782207301552,\n",
       " 'year': 0.061686949223667686}"
      ]
     },
     "execution_count": 403,
     "metadata": {},
     "output_type": "execute_result"
    }
   ],
   "source": [
    "selected_values = {}\n",
    "for key in res_dict:\n",
    "    if key.startswith(\"transmission\") or key.startswith(\"engine hp\") or key.startswith(\"year\") or key.startswith(\"city mpg\"):\n",
    "        selected_values.update({key: 1 - res_dict[key]})\n",
    "\n",
    "selected_values\n"
   ]
  },
  {
   "cell_type": "code",
   "execution_count": 404,
   "id": "f2eece22",
   "metadata": {},
   "outputs": [
    {
     "data": {
      "text/plain": [
       "{'city mpg': 0.0008392782207301552,\n",
       " 'transmission type=automated_manual': 0.0008392782207301552,\n",
       " 'transmission type=automatic': 0.0008392782207301552,\n",
       " 'transmission type=direct_drive': 0.0008392782207301552,\n",
       " 'transmission type=manual': 0.0008392782207301552,\n",
       " 'transmission type=unknown': 0.0008392782207301552,\n",
       " 'engine hp': 0.0012589173310952884,\n",
       " 'year': 0.061686949223667686}"
      ]
     },
     "execution_count": 404,
     "metadata": {},
     "output_type": "execute_result"
    }
   ],
   "source": [
    "sorted_selected_values = {k: v for k, v in sorted(selected_values.items(), key=lambda item: item[1])}\n",
    "sorted_selected_values"
   ]
  },
  {
   "cell_type": "code",
   "execution_count": 405,
   "id": "34b614ff",
   "metadata": {},
   "outputs": [],
   "source": [
    "#{'city mpg': 0.0008392782207301552,\n",
    "# 'transmission type_automated_manual': 0.0008392782207301552,\n",
    "# 'transmission type_automatic': 0.0008392782207301552,\n",
    "# 'transmission type_direct_drive': 0.0008392782207301552,\n",
    "# 'transmission type_manual': 0.0008392782207301552,\n",
    "# 'transmission type_unknown': 0.0008392782207301552,\n",
    "# 'engine hp': 0.0012589173310952884,\n",
    "# 'year': 0.061686949223667686}"
   ]
  },
  {
   "cell_type": "code",
   "execution_count": 406,
   "id": "cdeeed21",
   "metadata": {},
   "outputs": [],
   "source": [
    "#Q6"
   ]
  },
  {
   "cell_type": "code",
   "execution_count": 407,
   "id": "6a60e7b5",
   "metadata": {},
   "outputs": [],
   "source": [
    "from sklearn.linear_model import Ridge\n",
    "from sklearn.metrics import mean_squared_error"
   ]
  },
  {
   "cell_type": "code",
   "execution_count": 408,
   "id": "4b06f90a",
   "metadata": {},
   "outputs": [],
   "source": [
    "X_train['price'] = np.log(X_train['price'])"
   ]
  },
  {
   "cell_type": "code",
   "execution_count": 409,
   "id": "0feefe2f",
   "metadata": {},
   "outputs": [
    {
     "name": "stderr",
     "output_type": "stream",
     "text": [
      "C:\\Users\\pc\\anaconda3\\Lib\\site-packages\\sklearn\\linear_model\\_sag.py:350: ConvergenceWarning: The max_iter was reached which means the coef_ did not converge\n",
      "  warnings.warn(\n",
      "C:\\Users\\pc\\anaconda3\\Lib\\site-packages\\sklearn\\linear_model\\_sag.py:350: ConvergenceWarning: The max_iter was reached which means the coef_ did not converge\n",
      "  warnings.warn(\n",
      "C:\\Users\\pc\\anaconda3\\Lib\\site-packages\\sklearn\\linear_model\\_sag.py:350: ConvergenceWarning: The max_iter was reached which means the coef_ did not converge\n",
      "  warnings.warn(\n",
      "C:\\Users\\pc\\anaconda3\\Lib\\site-packages\\sklearn\\linear_model\\_sag.py:350: ConvergenceWarning: The max_iter was reached which means the coef_ did not converge\n",
      "  warnings.warn(\n",
      "C:\\Users\\pc\\anaconda3\\Lib\\site-packages\\sklearn\\linear_model\\_sag.py:350: ConvergenceWarning: The max_iter was reached which means the coef_ did not converge\n",
      "  warnings.warn(\n"
     ]
    },
    {
     "data": {
      "text/plain": [
       "[7086.316, 7086.288, 7086.035, 7083.503, 7058.276]"
      ]
     },
     "execution_count": 409,
     "metadata": {},
     "output_type": "execute_result"
    }
   ],
   "source": [
    "alphas = [0, 0.01, 0.1, 1, 10]\n",
    "\n",
    "rmse_scores = []\n",
    "for alpha in alphas:\n",
    "    ridge = Ridge(alpha=alpha, solver='sag', random_state=42)\n",
    "    ridge.fit(X_train, y_train)\n",
    "    y_pred = ridge.predict(X_test)\n",
    "    rmse = np.sqrt(mean_squared_error(y_test, y_pred))\n",
    "    rmse_scores.append(round(rmse, 3))\n",
    "    \n",
    "rmse_scores"
   ]
  },
  {
   "cell_type": "code",
   "execution_count": null,
   "id": "ce2eb6d9",
   "metadata": {},
   "outputs": [],
   "source": [
    "# [0, 0.01, 0.1, 1, 10]\n",
    "# [2180.382, 2180.364, 2180.2, 2178.558, 2162.235]\n",
    "# 10"
   ]
  },
  {
   "cell_type": "code",
   "execution_count": 328,
   "id": "18954e72",
   "metadata": {},
   "outputs": [],
   "source": [
    "from sklearn.feature_extraction import DictVectorizer\n",
    "dv = DictVectorizer(sparse=False)\n",
    "\n",
    "train_dict = X_train.to_dict(orient='records')\n",
    "X_train_2 = dv.fit_transform(train_dict)\n",
    "\n",
    "val_dict = X_val.to_dict(orient='records')\n",
    "X_val_2 = dv.transform(val_dict)"
   ]
  }
 ],
 "metadata": {
  "kernelspec": {
   "display_name": "Python 3 (ipykernel)",
   "language": "python",
   "name": "python3"
  },
  "language_info": {
   "codemirror_mode": {
    "name": "ipython",
    "version": 3
   },
   "file_extension": ".py",
   "mimetype": "text/x-python",
   "name": "python",
   "nbconvert_exporter": "python",
   "pygments_lexer": "ipython3",
   "version": "3.11.4"
  }
 },
 "nbformat": 4,
 "nbformat_minor": 5
}
